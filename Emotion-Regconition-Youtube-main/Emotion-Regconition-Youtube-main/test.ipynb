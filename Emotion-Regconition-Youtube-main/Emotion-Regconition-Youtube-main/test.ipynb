{
 "cells": [
  {
   "cell_type": "markdown",
   "id": "c3cf03dd",
   "metadata": {},
   "source": [
    "### IMPORT PACKAGES"
   ]
  },
  {
   "cell_type": "code",
   "execution_count": 55,
   "id": "2e392ea2",
   "metadata": {},
   "outputs": [],
   "source": [
    "import os\n",
    "import time\n",
    "import pandas as pd\n",
    "from selenium.webdriver import Chrome\n",
    "from selenium.webdriver.common.by import By\n",
    "from selenium.webdriver.common.keys import Keys\n",
    "from selenium.webdriver.chrome.service import Service\n",
    "from selenium.webdriver.support.ui import WebDriverWait as WDW\n",
    "from selenium.webdriver.support import expected_conditions as EC\n",
    "from sklearn.model_selection import train_test_split\n",
    "from sklearn.tree import DecisionTreeClassifier\n",
    "from sklearn.metrics import f1_score, accuracy_score, precision_score\n",
    "from sklearn.feature_extraction.text import TfidfVectorizer\n",
    "#!pip install torch --use-feature=2020-resolver\n",
    "from underthesea import word_tokenize\n",
    "from xlrd import open_workbook\n",
    "import matplotlib.pyplot as plt\n",
    "%matplotlib inline"
   ]
  },
  {
   "cell_type": "code",
   "execution_count": 56,
   "id": "5f26d2bf",
   "metadata": {},
   "outputs": [
    {
     "name": "stdout",
     "output_type": "stream",
     "text": [
      "True\n"
     ]
    }
   ],
   "source": [
    "import os\n",
    "print(os.path.exists('./chromedriver.exe'))  # True nếu đúng"
   ]
  },
  {
   "cell_type": "markdown",
   "id": "5bfe445a",
   "metadata": {},
   "source": [
    "### TASK 1: COLLECTING DATA"
   ]
  },
  {
   "cell_type": "markdown",
   "id": "560c8291",
   "metadata": {},
   "source": [
    "#### 1.1 Functions to Get data from 3 Youtube Videos (Khoa Pug)"
   ]
  },
  {
   "cell_type": "code",
   "execution_count": 57,
   "id": "f8edcd00",
   "metadata": {},
   "outputs": [],
   "source": [
    "# Create ChromeDriver to executable that Selenium WebDriver uses to control Chrome\n",
    "def ChromeDriver(url,t):\n",
    "    data = []\n",
    "    service = Service(executable_path=r'D:\\hoctrentruong\\DAT\\project\\Emotion-Regconition-Youtube-main\\Emotion-Regconition-Youtube-main/chromedriver.exe')\n",
    "    with Chrome(service=service) as ChD:\n",
    "        wait = WDW(ChD,t)\n",
    "        ChD.get(url)\n",
    "        for item in range(101): \n",
    "            wait.until(EC.visibility_of_element_located((By.TAG_NAME, \"body\"))).send_keys(Keys.END)\n",
    "            time.sleep(t)\n",
    "        for comment in wait.until(EC.presence_of_all_elements_located((By.CSS_SELECTOR, \"#content\"))):\n",
    "            if(len(str(comment.text))>10): # Do not accept short comment or doesn't mean much\n",
    "                data.append(comment.text)\n",
    "            if(len(data)==103): # 100 comments + 3(title,description,first comment of Khoa Pug)\n",
    "                break\n",
    "    return data\n",
    "\n",
    "def getData_Video(url,t):\n",
    "    data = ChromeDriver(url,t)\n",
    "    while(len(data)==103):\n",
    "        for i in range(3): # Remove 3(title,description,first comment of Khoa Pug)\n",
    "            data.pop(0)\n",
    "        print(\"Success!! Crawled 100 comments from Video [\" + url.split(\"v=\")[1] + \"]!\")\n",
    "        return data\n",
    "    print(\"Failed!! Please try again.\")\n",
    "    return data"
   ]
  },
  {
   "cell_type": "markdown",
   "id": "bc4dd6c1",
   "metadata": {},
   "source": [
    "#### 1.2 Choose 3 Videos and Make storageDir"
   ]
  },
  {
   "cell_type": "code",
   "execution_count": 58,
   "id": "d3785251",
   "metadata": {},
   "outputs": [],
   "source": [
    "url1 = \"https://www.youtube.com/watch?v=hassqXTvsXM\"\n",
    "url2 = \"https://www.youtube.com/watch?v=RG-dXrbRNuw\"\n",
    "url3 = \"https://www.youtube.com/watch?v=ipSpPzFqNH0\"\n",
    "url4 = \"https://www.youtube.com/watch?v=_cKeLsxwRSU\"\n",
    "url5 = \"https://www.youtube.com/watch?v=4CAQ4odYfhI\"\n",
    "\n",
    "storageDir = \"dataList/\"\n",
    "if not os.path.exists(storageDir):\n",
    "    os.makedirs(storageDir)"
   ]
  },
  {
   "cell_type": "markdown",
   "id": "b1f7b1d3",
   "metadata": {},
   "source": [
    "#### 1.3 Crawling 100 comments"
   ]
  },
  {
   "cell_type": "code",
   "execution_count": 60,
   "id": "ba44521b",
   "metadata": {},
   "outputs": [
    {
     "name": "stdout",
     "output_type": "stream",
     "text": [
      "Success!! Crawled 100 comments from Video [hassqXTvsXM]!\n"
     ]
    }
   ],
   "source": [
    "data1 = getData_Video(url1,0.035)"
   ]
  },
  {
   "cell_type": "code",
   "execution_count": 62,
   "id": "95cbe72f",
   "metadata": {},
   "outputs": [
    {
     "name": "stdout",
     "output_type": "stream",
     "text": [
      "Success!! Crawled 100 comments from Video [RG-dXrbRNuw]!\n"
     ]
    }
   ],
   "source": [
    "data2 = getData_Video(url2,0.035)"
   ]
  },
  {
   "cell_type": "code",
   "execution_count": 63,
   "id": "171ae4c5",
   "metadata": {},
   "outputs": [
    {
     "name": "stdout",
     "output_type": "stream",
     "text": [
      "Success!! Crawled 100 comments from Video [ipSpPzFqNH0]!\n"
     ]
    }
   ],
   "source": [
    "data3 = getData_Video(url3,0.035)"
   ]
  },
  {
   "cell_type": "code",
   "execution_count": 65,
   "id": "3400c310",
   "metadata": {},
   "outputs": [
    {
     "name": "stdout",
     "output_type": "stream",
     "text": [
      "Success!! Crawled 100 comments from Video [_cKeLsxwRSU]!\n"
     ]
    }
   ],
   "source": [
    "data4 = getData_Video(url4,0.035)"
   ]
  },
  {
   "cell_type": "code",
   "execution_count": 68,
   "id": "bdecdff9",
   "metadata": {},
   "outputs": [
    {
     "name": "stdout",
     "output_type": "stream",
     "text": [
      "Success!! Crawled 100 comments from Video [4CAQ4odYfhI]!\n"
     ]
    }
   ],
   "source": [
    "data5 = getData_Video(url5,0.035)"
   ]
  },
  {
   "cell_type": "markdown",
   "id": "22e48825",
   "metadata": {},
   "source": [
    "#### 1.4 Label these comments by yourself in 7 classes"
   ]
  },
  {
   "cell_type": "code",
   "execution_count": 70,
   "id": "bccc0271",
   "metadata": {},
   "outputs": [],
   "source": [
    "DG = \"Disgust\"\n",
    "EJ = \"Enjoyment\"\n",
    "AG = \"Anger\"\n",
    "SP = \"Surprise\"\n",
    "SN = \"Sadness\"\n",
    "FE = \"Fear\"\n",
    "OT = \"Other\"\n",
    "\n",
    "emotion1 = [\n",
    "    OT,EJ,EJ,OT,OT,SN,SN,OT,EJ,EJ,\n",
    "    SP,EJ,EJ,OT,OT,OT,EJ,OT,EJ,EJ,\n",
    "    SP,EJ,EJ,OT,SP,OT,EJ,EJ,EJ,OT,\n",
    "    EJ,EJ,EJ,OT,OT,OT,SN,OT,EJ,DG,\n",
    "    EJ,EJ,EJ,EJ,EJ,EJ,OT,OT,EJ,EJ,\n",
    "    EJ,FE,EJ,OT,OT,OT,EJ,OT,EJ,OT,\n",
    "    OT,SP,SP,OT,OT,EJ,EJ,OT,EJ,EJ,\n",
    "    DG,SP,AG,OT,OT,EJ,OT,SN,EJ,EJ,\n",
    "    OT,EJ,EJ,EJ,OT,EJ,OT,FE,EJ,EJ,\n",
    "    EJ,OT,OT,SP,OT,OT,DG,OT,EJ,OT\n",
    "]\n",
    "emotion2 = [\n",
    "    OT,EJ,SN,EJ,SP,OT,OT,FE,OT,EJ,\n",
    "    SP,EJ,EJ,AG,OT,OT,SN,EJ,OT,OT,\n",
    "    OT,EJ,SN,EJ,EJ,DG,OT,OT,EJ,EJ,\n",
    "    EJ,EJ,EJ,SN,OT,OT,EJ,EJ,EJ,OT,\n",
    "    SN,OT,EJ,EJ,EJ,EJ,OT,EJ,OT,OT,\n",
    "    OT,OT,EJ,EJ,OT,OT,EJ,OT,OT,OT,\n",
    "    OT,EJ,EJ,EJ,EJ,EJ,OT,OT,EJ,EJ,\n",
    "    EJ,OT,OT,OT,OT,SN,OT,EJ,EJ,EJ,\n",
    "    OT,OT,EJ,OT,OT,EJ,EJ,SP,FE,OT,\n",
    "    OT,OT,EJ,OT,OT,EJ,OT,OT,OT,EJ\n",
    "]\n",
    "emotion3 = [\n",
    "    OT,OT,EJ,OT,OT,EJ,OT,EJ,FE,FE,\n",
    "    EJ,EJ,SP,SP,SN,OT,EJ,OT,OT,EJ,\n",
    "    EJ,FE,SN,EJ,OT,OT,EJ,EJ,FE,EJ,\n",
    "    SN,EJ,EJ,OT,EJ,FE,SN,OT,EJ,OT,\n",
    "    SN,EJ,EJ,SN,EJ,EJ,SN,OT,EJ,EJ,\n",
    "    OT,FE,SN,AG,OT,OT,EJ,OT,EJ,OT,\n",
    "    OT,SP,SP,OT,SN,EJ,EJ,SN,OT,OT,\n",
    "    SP,SP,EJ,OT,OT,EJ,OT,OT,DG,SN,\n",
    "    OT,AG,EJ,EJ,OT,SN,SP,FE,SN,EJ,\n",
    "    EJ,EJ,EJ,OT,OT,SP,FE,SP,EJ,FE\n",
    "]\n",
    "emotion4 = [\n",
    "    OT,OT,EJ,OT,OT,EJ,OT,EJ,FE,FE,\n",
    "    EJ,EJ,SP,SP,SN,OT,EJ,OT,OT,EJ,\n",
    "    EJ,FE,SN,EJ,OT,OT,EJ,EJ,FE,EJ,\n",
    "    SN,EJ,EJ,OT,EJ,FE,SN,OT,EJ,OT,\n",
    "    SN,EJ,EJ,SN,EJ,EJ,SN,OT,EJ,EJ,\n",
    "    OT,FE,SN,AG,OT,OT,EJ,OT,EJ,OT,\n",
    "    OT,SP,SP,OT,SN,EJ,EJ,SN,OT,OT,\n",
    "    SP,SP,EJ,OT,OT,EJ,OT,OT,DG,SN,\n",
    "    OT,AG,EJ,EJ,OT,SN,SP,FE,SN,EJ,\n",
    "    EJ,EJ,EJ,OT,OT,SP,FE,SP,EJ,FE\n",
    "]\n",
    "emotion5 = [\n",
    "    OT,OT,EJ,OT,OT,EJ,OT,EJ,FE,FE,\n",
    "    EJ,EJ,SP,SP,SN,OT,EJ,OT,OT,EJ,\n",
    "    EJ,FE,SN,EJ,OT,OT,EJ,EJ,FE,EJ,\n",
    "    SN,EJ,EJ,OT,EJ,FE,SN,OT,EJ,OT,\n",
    "    SN,EJ,EJ,SN,EJ,EJ,SN,OT,EJ,EJ,\n",
    "    OT,FE,SN,AG,OT,OT,EJ,OT,EJ,OT,\n",
    "    OT,SP,SP,OT,SN,EJ,EJ,SN,OT,OT,\n",
    "    SP,SP,EJ,OT,OT,EJ,OT,OT,DG,SN,\n",
    "    OT,AG,EJ,EJ,OT,SN,SP,FE,SN,EJ,\n",
    "    EJ,EJ,EJ,OT,OT,SP,FE,SP,EJ,FE\n",
    "]"
   ]
  },
  {
   "cell_type": "markdown",
   "id": "f26ad10a",
   "metadata": {},
   "source": [
    "#### 1.5 Write data to CSV"
   ]
  },
  {
   "cell_type": "code",
   "execution_count": 71,
   "id": "c97734a9",
   "metadata": {},
   "outputs": [
    {
     "data": {
      "text/html": [
       "<div>\n",
       "<style scoped>\n",
       "    .dataframe tbody tr th:only-of-type {\n",
       "        vertical-align: middle;\n",
       "    }\n",
       "\n",
       "    .dataframe tbody tr th {\n",
       "        vertical-align: top;\n",
       "    }\n",
       "\n",
       "    .dataframe thead th {\n",
       "        text-align: right;\n",
       "    }\n",
       "</style>\n",
       "<table border=\"1\" class=\"dataframe\">\n",
       "  <thead>\n",
       "    <tr style=\"text-align: right;\">\n",
       "      <th></th>\n",
       "      <th>Emotion</th>\n",
       "      <th>Sentence</th>\n",
       "    </tr>\n",
       "  </thead>\n",
       "  <tbody>\n",
       "    <tr>\n",
       "      <th>0</th>\n",
       "      <td>Other</td>\n",
       "      <td>thích nhất cái khoản anh Khoa đi đâu cũng giới...</td>\n",
       "    </tr>\n",
       "    <tr>\n",
       "      <th>1</th>\n",
       "      <td>Enjoyment</td>\n",
       "      <td>Hay quá Khoa ơi nhiều người như Em sẽ làm ngườ...</td>\n",
       "    </tr>\n",
       "    <tr>\n",
       "      <th>2</th>\n",
       "      <td>Enjoyment</td>\n",
       "      <td>Khuôn mặt thân thiện hiền lành vui vẽ. ..làm đ...</td>\n",
       "    </tr>\n",
       "    <tr>\n",
       "      <th>3</th>\n",
       "      <td>Other</td>\n",
       "      <td>Chào Khoa, mỗi clip Khoa đăng lên Cô rất vui k...</td>\n",
       "    </tr>\n",
       "    <tr>\n",
       "      <th>4</th>\n",
       "      <td>Other</td>\n",
       "      <td>\"...đồ ăn Việt Nam vẫn là ngon nhất...\" ủng hộ...</td>\n",
       "    </tr>\n",
       "  </tbody>\n",
       "</table>\n",
       "</div>"
      ],
      "text/plain": [
       "     Emotion                                           Sentence\n",
       "0      Other  thích nhất cái khoản anh Khoa đi đâu cũng giới...\n",
       "1  Enjoyment  Hay quá Khoa ơi nhiều người như Em sẽ làm ngườ...\n",
       "2  Enjoyment  Khuôn mặt thân thiện hiền lành vui vẽ. ..làm đ...\n",
       "3      Other  Chào Khoa, mỗi clip Khoa đăng lên Cô rất vui k...\n",
       "4      Other  \"...đồ ăn Việt Nam vẫn là ngon nhất...\" ủng hộ..."
      ]
     },
     "execution_count": 71,
     "metadata": {},
     "output_type": "execute_result"
    }
   ],
   "source": [
    "dataList1 = {\"Emotion\": emotion1, \"Sentence\": data1}\n",
    "\n",
    "df1 = pd.DataFrame(dataList1)\n",
    "df1.to_csv(storageDir + \"dataList1.csv\", encoding = \"utf-8-sig\")\n",
    "df1.head()"
   ]
  },
  {
   "cell_type": "code",
   "execution_count": 72,
   "id": "e0ec12dd",
   "metadata": {},
   "outputs": [
    {
     "data": {
      "text/html": [
       "<div>\n",
       "<style scoped>\n",
       "    .dataframe tbody tr th:only-of-type {\n",
       "        vertical-align: middle;\n",
       "    }\n",
       "\n",
       "    .dataframe tbody tr th {\n",
       "        vertical-align: top;\n",
       "    }\n",
       "\n",
       "    .dataframe thead th {\n",
       "        text-align: right;\n",
       "    }\n",
       "</style>\n",
       "<table border=\"1\" class=\"dataframe\">\n",
       "  <thead>\n",
       "    <tr style=\"text-align: right;\">\n",
       "      <th></th>\n",
       "      <th>Emotion</th>\n",
       "      <th>Sentence</th>\n",
       "    </tr>\n",
       "  </thead>\n",
       "  <tbody>\n",
       "    <tr>\n",
       "      <th>0</th>\n",
       "      <td>Other</td>\n",
       "      <td>T mắc cười khúc đầu bếp chào xong cái ông Khoa...</td>\n",
       "    </tr>\n",
       "    <tr>\n",
       "      <th>1</th>\n",
       "      <td>Enjoyment</td>\n",
       "      <td>Review về Dubai đi anh Khoa. Ai đồng ý xin 1 l...</td>\n",
       "    </tr>\n",
       "    <tr>\n",
       "      <th>2</th>\n",
       "      <td>Sadness</td>\n",
       "      <td>ăn không biết sao mà nhìn họ làm thấy ngon quá...</td>\n",
       "    </tr>\n",
       "    <tr>\n",
       "      <th>3</th>\n",
       "      <td>Enjoyment</td>\n",
       "      <td>Ăn ở VN cũng rất ngon, giúp xứ sở, dân mình c...</td>\n",
       "    </tr>\n",
       "    <tr>\n",
       "      <th>4</th>\n",
       "      <td>Surprise</td>\n",
       "      <td>Coi vd mà không ai khen anh đầu bếp vậy ta. Mì...</td>\n",
       "    </tr>\n",
       "  </tbody>\n",
       "</table>\n",
       "</div>"
      ],
      "text/plain": [
       "     Emotion                                           Sentence\n",
       "0      Other  T mắc cười khúc đầu bếp chào xong cái ông Khoa...\n",
       "1  Enjoyment  Review về Dubai đi anh Khoa. Ai đồng ý xin 1 l...\n",
       "2    Sadness  ăn không biết sao mà nhìn họ làm thấy ngon quá...\n",
       "3  Enjoyment  Ăn ở VN cũng rất ngon, giúp xứ sở, dân mình c...\n",
       "4   Surprise  Coi vd mà không ai khen anh đầu bếp vậy ta. Mì..."
      ]
     },
     "execution_count": 72,
     "metadata": {},
     "output_type": "execute_result"
    }
   ],
   "source": [
    "dataList2 = {\"Emotion\": emotion2, \"Sentence\": data2}\n",
    "\n",
    "df2 = pd.DataFrame(dataList2)\n",
    "df2.to_csv(storageDir + \"dataList2.csv\", encoding = \"utf-8-sig\")\n",
    "df2.head()"
   ]
  },
  {
   "cell_type": "code",
   "execution_count": 73,
   "id": "25bc59a8",
   "metadata": {},
   "outputs": [
    {
     "data": {
      "text/html": [
       "<div>\n",
       "<style scoped>\n",
       "    .dataframe tbody tr th:only-of-type {\n",
       "        vertical-align: middle;\n",
       "    }\n",
       "\n",
       "    .dataframe tbody tr th {\n",
       "        vertical-align: top;\n",
       "    }\n",
       "\n",
       "    .dataframe thead th {\n",
       "        text-align: right;\n",
       "    }\n",
       "</style>\n",
       "<table border=\"1\" class=\"dataframe\">\n",
       "  <thead>\n",
       "    <tr style=\"text-align: right;\">\n",
       "      <th></th>\n",
       "      <th>Emotion</th>\n",
       "      <th>Sentence</th>\n",
       "    </tr>\n",
       "  </thead>\n",
       "  <tbody>\n",
       "    <tr>\n",
       "      <th>0</th>\n",
       "      <td>Other</td>\n",
       "      <td>Xem những hình ảnh này, rồi cả những gì họ hứn...</td>\n",
       "    </tr>\n",
       "    <tr>\n",
       "      <th>1</th>\n",
       "      <td>Other</td>\n",
       "      <td>ở ấn độ có người nhiễm cúm corona rồi đó, ko t...</td>\n",
       "    </tr>\n",
       "    <tr>\n",
       "      <th>2</th>\n",
       "      <td>Enjoyment</td>\n",
       "      <td>Khoa có hai cô bạn thật dễ thương, cô nào cũng...</td>\n",
       "    </tr>\n",
       "    <tr>\n",
       "      <th>3</th>\n",
       "      <td>Other</td>\n",
       "      <td>Người ta đi review du lịch đi những nơi cao sa...</td>\n",
       "    </tr>\n",
       "    <tr>\n",
       "      <th>4</th>\n",
       "      <td>Other</td>\n",
       "      <td>Cám ơn Khoa và Cameraman đã không ngại khổ mà ...</td>\n",
       "    </tr>\n",
       "  </tbody>\n",
       "</table>\n",
       "</div>"
      ],
      "text/plain": [
       "     Emotion                                           Sentence\n",
       "0      Other  Xem những hình ảnh này, rồi cả những gì họ hứn...\n",
       "1      Other  ở ấn độ có người nhiễm cúm corona rồi đó, ko t...\n",
       "2  Enjoyment  Khoa có hai cô bạn thật dễ thương, cô nào cũng...\n",
       "3      Other  Người ta đi review du lịch đi những nơi cao sa...\n",
       "4      Other  Cám ơn Khoa và Cameraman đã không ngại khổ mà ..."
      ]
     },
     "execution_count": 73,
     "metadata": {},
     "output_type": "execute_result"
    }
   ],
   "source": [
    "dataList3 = {\"Emotion\": emotion3, \"Sentence\": data3}\n",
    "\n",
    "df3 = pd.DataFrame(dataList3)\n",
    "df3.to_csv(storageDir + \"dataList3.csv\", encoding = \"utf-8-sig\")\n",
    "df3.head()"
   ]
  },
  {
   "cell_type": "code",
   "execution_count": 81,
   "id": "1a023f5d",
   "metadata": {},
   "outputs": [
    {
     "data": {
      "text/html": [
       "<div>\n",
       "<style scoped>\n",
       "    .dataframe tbody tr th:only-of-type {\n",
       "        vertical-align: middle;\n",
       "    }\n",
       "\n",
       "    .dataframe tbody tr th {\n",
       "        vertical-align: top;\n",
       "    }\n",
       "\n",
       "    .dataframe thead th {\n",
       "        text-align: right;\n",
       "    }\n",
       "</style>\n",
       "<table border=\"1\" class=\"dataframe\">\n",
       "  <thead>\n",
       "    <tr style=\"text-align: right;\">\n",
       "      <th></th>\n",
       "      <th>Emotion</th>\n",
       "      <th>Sentence</th>\n",
       "    </tr>\n",
       "  </thead>\n",
       "  <tbody>\n",
       "    <tr>\n",
       "      <th>0</th>\n",
       "      <td>Other</td>\n",
       "      <td>Có một khoảng thời gian sau chia tay: Mình thậ...</td>\n",
       "    </tr>\n",
       "    <tr>\n",
       "      <th>1</th>\n",
       "      <td>Other</td>\n",
       "      <td>Sau nhiều biến cố trong đời, tôi yêu thích sự ...</td>\n",
       "    </tr>\n",
       "    <tr>\n",
       "      <th>2</th>\n",
       "      <td>Enjoyment</td>\n",
       "      <td>Có thời gian mình thật sự rất cô đơn, mình ngh...</td>\n",
       "    </tr>\n",
       "    <tr>\n",
       "      <th>3</th>\n",
       "      <td>Other</td>\n",
       "      <td>Mình ko ham danh, lợi nhưng mình thích sống 1 ...</td>\n",
       "    </tr>\n",
       "    <tr>\n",
       "      <th>4</th>\n",
       "      <td>Other</td>\n",
       "      <td>Sau một thời gian nghe kênh Youtube này, theo ...</td>\n",
       "    </tr>\n",
       "  </tbody>\n",
       "</table>\n",
       "</div>"
      ],
      "text/plain": [
       "     Emotion                                           Sentence\n",
       "0      Other  Có một khoảng thời gian sau chia tay: Mình thậ...\n",
       "1      Other  Sau nhiều biến cố trong đời, tôi yêu thích sự ...\n",
       "2  Enjoyment  Có thời gian mình thật sự rất cô đơn, mình ngh...\n",
       "3      Other  Mình ko ham danh, lợi nhưng mình thích sống 1 ...\n",
       "4      Other  Sau một thời gian nghe kênh Youtube này, theo ..."
      ]
     },
     "execution_count": 81,
     "metadata": {},
     "output_type": "execute_result"
    }
   ],
   "source": [
    "dataList4 = {\"Emotion\": emotion4, \"Sentence\": data4}\n",
    "\n",
    "df4 = pd.DataFrame(dataList4)\n",
    "df4.to_csv(storageDir + \"dataList4.csv\", encoding = \"utf-8-sig\")\n",
    "df4.head()"
   ]
  },
  {
   "cell_type": "code",
   "execution_count": 79,
   "id": "df2dcefe",
   "metadata": {},
   "outputs": [
    {
     "data": {
      "text/html": [
       "<div>\n",
       "<style scoped>\n",
       "    .dataframe tbody tr th:only-of-type {\n",
       "        vertical-align: middle;\n",
       "    }\n",
       "\n",
       "    .dataframe tbody tr th {\n",
       "        vertical-align: top;\n",
       "    }\n",
       "\n",
       "    .dataframe thead th {\n",
       "        text-align: right;\n",
       "    }\n",
       "</style>\n",
       "<table border=\"1\" class=\"dataframe\">\n",
       "  <thead>\n",
       "    <tr style=\"text-align: right;\">\n",
       "      <th></th>\n",
       "      <th>Emotion</th>\n",
       "      <th>Sentence</th>\n",
       "    </tr>\n",
       "  </thead>\n",
       "  <tbody>\n",
       "    <tr>\n",
       "      <th>0</th>\n",
       "      <td>Other</td>\n",
       "      <td>năm nay thi tuyển sinh 10 - 1 kì thi qtrong nh...</td>\n",
       "    </tr>\n",
       "    <tr>\n",
       "      <th>1</th>\n",
       "      <td>Other</td>\n",
       "      <td>Gửi đến tôi mùa hè của một năm nữa - mùa hè cu...</td>\n",
       "    </tr>\n",
       "    <tr>\n",
       "      <th>2</th>\n",
       "      <td>Enjoyment</td>\n",
       "      <td>mùa hè cuối cùng của thời học sinh . Từng con ...</td>\n",
       "    </tr>\n",
       "    <tr>\n",
       "      <th>3</th>\n",
       "      <td>Other</td>\n",
       "      <td>“Nếu có ước muốn trong cuộc đời này. Hãy nhớ ư...</td>\n",
       "    </tr>\n",
       "    <tr>\n",
       "      <th>4</th>\n",
       "      <td>Other</td>\n",
       "      <td>Đọc tiêu đề video mà tim nhói đau. Có hai mùa ...</td>\n",
       "    </tr>\n",
       "  </tbody>\n",
       "</table>\n",
       "</div>"
      ],
      "text/plain": [
       "     Emotion                                           Sentence\n",
       "0      Other  năm nay thi tuyển sinh 10 - 1 kì thi qtrong nh...\n",
       "1      Other  Gửi đến tôi mùa hè của một năm nữa - mùa hè cu...\n",
       "2  Enjoyment  mùa hè cuối cùng của thời học sinh . Từng con ...\n",
       "3      Other  “Nếu có ước muốn trong cuộc đời này. Hãy nhớ ư...\n",
       "4      Other  Đọc tiêu đề video mà tim nhói đau. Có hai mùa ..."
      ]
     },
     "execution_count": 79,
     "metadata": {},
     "output_type": "execute_result"
    }
   ],
   "source": [
    "dataList5 = {\"Emotion\": emotion5, \"Sentence\": data5}\n",
    "\n",
    "df5 = pd.DataFrame(dataList5)\n",
    "df5.to_csv(storageDir + \"dataList5.csv\", encoding = \"utf-8-sig\")\n",
    "df5.head()"
   ]
  },
  {
   "cell_type": "markdown",
   "id": "19af6ae5",
   "metadata": {},
   "source": [
    "#### 1.6 Read data from CSV"
   ]
  },
  {
   "cell_type": "code",
   "execution_count": 82,
   "id": "6039bd55",
   "metadata": {},
   "outputs": [],
   "source": [
    "dataList1 = pd.read_csv(storageDir + \"dataList1.csv\", encoding = \"utf8\")\n",
    "dataList2 = pd.read_csv(storageDir + \"dataList2.csv\", encoding = \"utf8\")\n",
    "dataList3 = pd.read_csv(storageDir + \"dataList3.csv\", encoding = \"utf8\")\n",
    "dataList4 = pd.read_csv(storageDir + \"dataList4.csv\", encoding = \"utf8\")\n",
    "dataList5 = pd.read_csv(storageDir + \"dataList5.csv\", encoding = \"utf8\")"
   ]
  },
  {
   "cell_type": "markdown",
   "id": "4bdbc59a",
   "metadata": {},
   "source": [
    "#### 1.7 Remove redundant attributes"
   ]
  },
  {
   "cell_type": "code",
   "execution_count": 83,
   "id": "ba2b9584",
   "metadata": {},
   "outputs": [
    {
     "data": {
      "text/plain": [
       "0      0\n",
       "1      1\n",
       "2      2\n",
       "3      3\n",
       "4      4\n",
       "      ..\n",
       "95    95\n",
       "96    96\n",
       "97    97\n",
       "98    98\n",
       "99    99\n",
       "Name: Unnamed: 0, Length: 100, dtype: int64"
      ]
     },
     "execution_count": 83,
     "metadata": {},
     "output_type": "execute_result"
    }
   ],
   "source": [
    "dataList1.pop(\"Unnamed: 0\")\n",
    "dataList2.pop(\"Unnamed: 0\")\n",
    "dataList3.pop(\"Unnamed: 0\")\n",
    "dataList4.pop(\"Unnamed: 0\")\n",
    "dataList5.pop(\"Unnamed: 0\")"
   ]
  },
  {
   "cell_type": "markdown",
   "id": "68280d85",
   "metadata": {},
   "source": [
    "#### 1.8 Add column length of sentence"
   ]
  },
  {
   "cell_type": "code",
   "execution_count": 84,
   "id": "3ac32834",
   "metadata": {},
   "outputs": [
    {
     "data": {
      "text/html": [
       "<div>\n",
       "<style scoped>\n",
       "    .dataframe tbody tr th:only-of-type {\n",
       "        vertical-align: middle;\n",
       "    }\n",
       "\n",
       "    .dataframe tbody tr th {\n",
       "        vertical-align: top;\n",
       "    }\n",
       "\n",
       "    .dataframe thead th {\n",
       "        text-align: right;\n",
       "    }\n",
       "</style>\n",
       "<table border=\"1\" class=\"dataframe\">\n",
       "  <thead>\n",
       "    <tr style=\"text-align: right;\">\n",
       "      <th></th>\n",
       "      <th>Emotion</th>\n",
       "      <th>Sentence</th>\n",
       "      <th>Length</th>\n",
       "    </tr>\n",
       "  </thead>\n",
       "  <tbody>\n",
       "    <tr>\n",
       "      <th>0</th>\n",
       "      <td>Other</td>\n",
       "      <td>năm nay thi tuyển sinh 10 - 1 kì thi qtrong nh...</td>\n",
       "      <td>517</td>\n",
       "    </tr>\n",
       "    <tr>\n",
       "      <th>1</th>\n",
       "      <td>Other</td>\n",
       "      <td>Gửi đến tôi mùa hè của một năm nữa - mùa hè cu...</td>\n",
       "      <td>795</td>\n",
       "    </tr>\n",
       "    <tr>\n",
       "      <th>2</th>\n",
       "      <td>Enjoyment</td>\n",
       "      <td>mùa hè cuối cùng của thời học sinh . Từng con ...</td>\n",
       "      <td>122</td>\n",
       "    </tr>\n",
       "    <tr>\n",
       "      <th>3</th>\n",
       "      <td>Other</td>\n",
       "      <td>“Nếu có ước muốn trong cuộc đời này. Hãy nhớ ư...</td>\n",
       "      <td>74</td>\n",
       "    </tr>\n",
       "    <tr>\n",
       "      <th>4</th>\n",
       "      <td>Other</td>\n",
       "      <td>Đọc tiêu đề video mà tim nhói đau. Có hai mùa ...</td>\n",
       "      <td>2242</td>\n",
       "    </tr>\n",
       "  </tbody>\n",
       "</table>\n",
       "</div>"
      ],
      "text/plain": [
       "     Emotion                                           Sentence  Length\n",
       "0      Other  năm nay thi tuyển sinh 10 - 1 kì thi qtrong nh...     517\n",
       "1      Other  Gửi đến tôi mùa hè của một năm nữa - mùa hè cu...     795\n",
       "2  Enjoyment  mùa hè cuối cùng của thời học sinh . Từng con ...     122\n",
       "3      Other  “Nếu có ước muốn trong cuộc đời này. Hãy nhớ ư...      74\n",
       "4      Other  Đọc tiêu đề video mà tim nhói đau. Có hai mùa ...    2242"
      ]
     },
     "execution_count": 84,
     "metadata": {},
     "output_type": "execute_result"
    }
   ],
   "source": [
    "lengthDataList1 = []\n",
    "lengthDataList2 = []\n",
    "lengthDataList3 = []\n",
    "lengthDataList4 = []\n",
    "lengthDataList5 = []\n",
    "for i in range(100):\n",
    "    lengthDataList1.append(len(dataList1.Sentence[i]))\n",
    "    lengthDataList2.append(len(dataList2.Sentence[i]))\n",
    "    lengthDataList3.append(len(dataList3.Sentence[i]))\n",
    "    lengthDataList4.append(len(dataList4.Sentence[i]))\n",
    "    lengthDataList5.append(len(dataList5.Sentence[i]))\n",
    "\n",
    "dataList1[\"Length\"] = lengthDataList1\n",
    "dataList2[\"Length\"] = lengthDataList2\n",
    "dataList3[\"Length\"] = lengthDataList3\n",
    "dataList4[\"Length\"] = lengthDataList4\n",
    "dataList5[\"Length\"] = lengthDataList5\n",
    "\n",
    "dataList1.head()"
   ]
  },
  {
   "cell_type": "code",
   "execution_count": 85,
   "id": "6a632b96",
   "metadata": {},
   "outputs": [
    {
     "data": {
      "text/html": [
       "<div>\n",
       "<style scoped>\n",
       "    .dataframe tbody tr th:only-of-type {\n",
       "        vertical-align: middle;\n",
       "    }\n",
       "\n",
       "    .dataframe tbody tr th {\n",
       "        vertical-align: top;\n",
       "    }\n",
       "\n",
       "    .dataframe thead th {\n",
       "        text-align: right;\n",
       "    }\n",
       "</style>\n",
       "<table border=\"1\" class=\"dataframe\">\n",
       "  <thead>\n",
       "    <tr style=\"text-align: right;\">\n",
       "      <th></th>\n",
       "      <th>Emotion</th>\n",
       "      <th>Sentence</th>\n",
       "      <th>Length</th>\n",
       "    </tr>\n",
       "  </thead>\n",
       "  <tbody>\n",
       "    <tr>\n",
       "      <th>0</th>\n",
       "      <td>Other</td>\n",
       "      <td>T mắc cười khúc đầu bếp chào xong cái ông Khoa...</td>\n",
       "      <td>99</td>\n",
       "    </tr>\n",
       "    <tr>\n",
       "      <th>1</th>\n",
       "      <td>Enjoyment</td>\n",
       "      <td>Review về Dubai đi anh Khoa. Ai đồng ý xin 1 l...</td>\n",
       "      <td>71</td>\n",
       "    </tr>\n",
       "    <tr>\n",
       "      <th>2</th>\n",
       "      <td>Sadness</td>\n",
       "      <td>ăn không biết sao mà nhìn họ làm thấy ngon quá...</td>\n",
       "      <td>85</td>\n",
       "    </tr>\n",
       "    <tr>\n",
       "      <th>3</th>\n",
       "      <td>Enjoyment</td>\n",
       "      <td>Ăn ở VN cũng rất ngon, giúp xứ sở, dân mình c...</td>\n",
       "      <td>57</td>\n",
       "    </tr>\n",
       "    <tr>\n",
       "      <th>4</th>\n",
       "      <td>Surprise</td>\n",
       "      <td>Coi vd mà không ai khen anh đầu bếp vậy ta. Mì...</td>\n",
       "      <td>132</td>\n",
       "    </tr>\n",
       "  </tbody>\n",
       "</table>\n",
       "</div>"
      ],
      "text/plain": [
       "     Emotion                                           Sentence  Length\n",
       "0      Other  T mắc cười khúc đầu bếp chào xong cái ông Khoa...      99\n",
       "1  Enjoyment  Review về Dubai đi anh Khoa. Ai đồng ý xin 1 l...      71\n",
       "2    Sadness  ăn không biết sao mà nhìn họ làm thấy ngon quá...      85\n",
       "3  Enjoyment  Ăn ở VN cũng rất ngon, giúp xứ sở, dân mình c...      57\n",
       "4   Surprise  Coi vd mà không ai khen anh đầu bếp vậy ta. Mì...     132"
      ]
     },
     "execution_count": 85,
     "metadata": {},
     "output_type": "execute_result"
    }
   ],
   "source": [
    "dataList2.head()"
   ]
  },
  {
   "cell_type": "code",
   "execution_count": 86,
   "id": "c1af6d6d",
   "metadata": {},
   "outputs": [
    {
     "data": {
      "text/html": [
       "<div>\n",
       "<style scoped>\n",
       "    .dataframe tbody tr th:only-of-type {\n",
       "        vertical-align: middle;\n",
       "    }\n",
       "\n",
       "    .dataframe tbody tr th {\n",
       "        vertical-align: top;\n",
       "    }\n",
       "\n",
       "    .dataframe thead th {\n",
       "        text-align: right;\n",
       "    }\n",
       "</style>\n",
       "<table border=\"1\" class=\"dataframe\">\n",
       "  <thead>\n",
       "    <tr style=\"text-align: right;\">\n",
       "      <th></th>\n",
       "      <th>Emotion</th>\n",
       "      <th>Sentence</th>\n",
       "      <th>Length</th>\n",
       "    </tr>\n",
       "  </thead>\n",
       "  <tbody>\n",
       "    <tr>\n",
       "      <th>0</th>\n",
       "      <td>Other</td>\n",
       "      <td>Xem những hình ảnh này, rồi cả những gì họ hứn...</td>\n",
       "      <td>218</td>\n",
       "    </tr>\n",
       "    <tr>\n",
       "      <th>1</th>\n",
       "      <td>Other</td>\n",
       "      <td>ở ấn độ có người nhiễm cúm corona rồi đó, ko t...</td>\n",
       "      <td>150</td>\n",
       "    </tr>\n",
       "    <tr>\n",
       "      <th>2</th>\n",
       "      <td>Enjoyment</td>\n",
       "      <td>Khoa có hai cô bạn thật dễ thương, cô nào cũng...</td>\n",
       "      <td>246</td>\n",
       "    </tr>\n",
       "    <tr>\n",
       "      <th>3</th>\n",
       "      <td>Other</td>\n",
       "      <td>Người ta đi review du lịch đi những nơi cao sa...</td>\n",
       "      <td>421</td>\n",
       "    </tr>\n",
       "    <tr>\n",
       "      <th>4</th>\n",
       "      <td>Other</td>\n",
       "      <td>Cám ơn Khoa và Cameraman đã không ngại khổ mà ...</td>\n",
       "      <td>271</td>\n",
       "    </tr>\n",
       "  </tbody>\n",
       "</table>\n",
       "</div>"
      ],
      "text/plain": [
       "     Emotion                                           Sentence  Length\n",
       "0      Other  Xem những hình ảnh này, rồi cả những gì họ hứn...     218\n",
       "1      Other  ở ấn độ có người nhiễm cúm corona rồi đó, ko t...     150\n",
       "2  Enjoyment  Khoa có hai cô bạn thật dễ thương, cô nào cũng...     246\n",
       "3      Other  Người ta đi review du lịch đi những nơi cao sa...     421\n",
       "4      Other  Cám ơn Khoa và Cameraman đã không ngại khổ mà ...     271"
      ]
     },
     "execution_count": 86,
     "metadata": {},
     "output_type": "execute_result"
    }
   ],
   "source": [
    "dataList3.head()"
   ]
  },
  {
   "cell_type": "code",
   "execution_count": 87,
   "id": "77681243",
   "metadata": {},
   "outputs": [
    {
     "data": {
      "text/html": [
       "<div>\n",
       "<style scoped>\n",
       "    .dataframe tbody tr th:only-of-type {\n",
       "        vertical-align: middle;\n",
       "    }\n",
       "\n",
       "    .dataframe tbody tr th {\n",
       "        vertical-align: top;\n",
       "    }\n",
       "\n",
       "    .dataframe thead th {\n",
       "        text-align: right;\n",
       "    }\n",
       "</style>\n",
       "<table border=\"1\" class=\"dataframe\">\n",
       "  <thead>\n",
       "    <tr style=\"text-align: right;\">\n",
       "      <th></th>\n",
       "      <th>Emotion</th>\n",
       "      <th>Sentence</th>\n",
       "      <th>Length</th>\n",
       "    </tr>\n",
       "  </thead>\n",
       "  <tbody>\n",
       "    <tr>\n",
       "      <th>0</th>\n",
       "      <td>Other</td>\n",
       "      <td>Có một khoảng thời gian sau chia tay: Mình thậ...</td>\n",
       "      <td>316</td>\n",
       "    </tr>\n",
       "    <tr>\n",
       "      <th>1</th>\n",
       "      <td>Other</td>\n",
       "      <td>Sau nhiều biến cố trong đời, tôi yêu thích sự ...</td>\n",
       "      <td>105</td>\n",
       "    </tr>\n",
       "    <tr>\n",
       "      <th>2</th>\n",
       "      <td>Enjoyment</td>\n",
       "      <td>Có thời gian mình thật sự rất cô đơn, mình ngh...</td>\n",
       "      <td>592</td>\n",
       "    </tr>\n",
       "    <tr>\n",
       "      <th>3</th>\n",
       "      <td>Other</td>\n",
       "      <td>Mình ko ham danh, lợi nhưng mình thích sống 1 ...</td>\n",
       "      <td>117</td>\n",
       "    </tr>\n",
       "    <tr>\n",
       "      <th>4</th>\n",
       "      <td>Other</td>\n",
       "      <td>Sau một thời gian nghe kênh Youtube này, theo ...</td>\n",
       "      <td>129</td>\n",
       "    </tr>\n",
       "  </tbody>\n",
       "</table>\n",
       "</div>"
      ],
      "text/plain": [
       "     Emotion                                           Sentence  Length\n",
       "0      Other  Có một khoảng thời gian sau chia tay: Mình thậ...     316\n",
       "1      Other  Sau nhiều biến cố trong đời, tôi yêu thích sự ...     105\n",
       "2  Enjoyment  Có thời gian mình thật sự rất cô đơn, mình ngh...     592\n",
       "3      Other  Mình ko ham danh, lợi nhưng mình thích sống 1 ...     117\n",
       "4      Other  Sau một thời gian nghe kênh Youtube này, theo ...     129"
      ]
     },
     "execution_count": 87,
     "metadata": {},
     "output_type": "execute_result"
    }
   ],
   "source": [
    "dataList4.head()"
   ]
  },
  {
   "cell_type": "code",
   "execution_count": 88,
   "id": "146f0b27",
   "metadata": {},
   "outputs": [
    {
     "data": {
      "text/html": [
       "<div>\n",
       "<style scoped>\n",
       "    .dataframe tbody tr th:only-of-type {\n",
       "        vertical-align: middle;\n",
       "    }\n",
       "\n",
       "    .dataframe tbody tr th {\n",
       "        vertical-align: top;\n",
       "    }\n",
       "\n",
       "    .dataframe thead th {\n",
       "        text-align: right;\n",
       "    }\n",
       "</style>\n",
       "<table border=\"1\" class=\"dataframe\">\n",
       "  <thead>\n",
       "    <tr style=\"text-align: right;\">\n",
       "      <th></th>\n",
       "      <th>Emotion</th>\n",
       "      <th>Sentence</th>\n",
       "      <th>Length</th>\n",
       "    </tr>\n",
       "  </thead>\n",
       "  <tbody>\n",
       "    <tr>\n",
       "      <th>0</th>\n",
       "      <td>Other</td>\n",
       "      <td>năm nay thi tuyển sinh 10 - 1 kì thi qtrong nh...</td>\n",
       "      <td>517</td>\n",
       "    </tr>\n",
       "    <tr>\n",
       "      <th>1</th>\n",
       "      <td>Other</td>\n",
       "      <td>Gửi đến tôi mùa hè của một năm nữa - mùa hè cu...</td>\n",
       "      <td>795</td>\n",
       "    </tr>\n",
       "    <tr>\n",
       "      <th>2</th>\n",
       "      <td>Enjoyment</td>\n",
       "      <td>mùa hè cuối cùng của thời học sinh . Từng con ...</td>\n",
       "      <td>122</td>\n",
       "    </tr>\n",
       "    <tr>\n",
       "      <th>3</th>\n",
       "      <td>Other</td>\n",
       "      <td>“Nếu có ước muốn trong cuộc đời này. Hãy nhớ ư...</td>\n",
       "      <td>74</td>\n",
       "    </tr>\n",
       "    <tr>\n",
       "      <th>4</th>\n",
       "      <td>Other</td>\n",
       "      <td>Đọc tiêu đề video mà tim nhói đau. Có hai mùa ...</td>\n",
       "      <td>2242</td>\n",
       "    </tr>\n",
       "  </tbody>\n",
       "</table>\n",
       "</div>"
      ],
      "text/plain": [
       "     Emotion                                           Sentence  Length\n",
       "0      Other  năm nay thi tuyển sinh 10 - 1 kì thi qtrong nh...     517\n",
       "1      Other  Gửi đến tôi mùa hè của một năm nữa - mùa hè cu...     795\n",
       "2  Enjoyment  mùa hè cuối cùng của thời học sinh . Từng con ...     122\n",
       "3      Other  “Nếu có ước muốn trong cuộc đời này. Hãy nhớ ư...      74\n",
       "4      Other  Đọc tiêu đề video mà tim nhói đau. Có hai mùa ...    2242"
      ]
     },
     "execution_count": 88,
     "metadata": {},
     "output_type": "execute_result"
    }
   ],
   "source": [
    "dataList5.head()"
   ]
  },
  {
   "cell_type": "markdown",
   "id": "dc82b61f",
   "metadata": {},
   "source": [
    "#### 1.9 Show Histogram Graph & Pie Chart"
   ]
  },
  {
   "cell_type": "code",
   "execution_count": 89,
   "id": "742e9cb9",
   "metadata": {},
   "outputs": [
    {
     "data": {
      "image/png": "[encoded data removed]",
      "text/plain": [
       "<Figure size 600x300 with 1 Axes>"
      ]
     },
     "metadata": {},
     "output_type": "display_data"
    },
    {
     "data": {
      "image/png": "[encoded data removed]",
      "text/plain": [
       "<Figure size 640x480 with 1 Axes>"
      ]
     },
     "metadata": {},
     "output_type": "display_data"
    },
    {
     "data": {
      "image/png": "[encoded data removed]",
      "text/plain": [
       "<Figure size 600x300 with 1 Axes>"
      ]
     },
     "metadata": {},
     "output_type": "display_data"
    },
    {
     "data": {
      "image/png": "[encoded data removed]",
      "text/plain": [
       "<Figure size 640x480 with 1 Axes>"
      ]
     },
     "metadata": {},
     "output_type": "display_data"
    },
    {
     "data": {
      "image/png": "[encoded data removed]",
      "text/plain": [
       "<Figure size 600x300 with 1 Axes>"
      ]
     },
     "metadata": {},
     "output_type": "display_data"
    },
    {
     "data": {
      "image/png": "[encoded data removed]",
      "text/plain": [
       "<Figure size 640x480 with 1 Axes>"
      ]
     },
     "metadata": {},
     "output_type": "display_data"
    }
   ],
   "source": [
    "def Show_HistGraph_And_PieChart(dataList):\n",
    "    E_DG = dataList.loc[dataList.Emotion == DG, 'Length']\n",
    "    E_EJ = dataList.loc[dataList.Emotion == EJ, 'Length']\n",
    "    E_AG = dataList.loc[dataList.Emotion == AG, 'Length']\n",
    "    E_SP = dataList.loc[dataList.Emotion == SP, 'Length']\n",
    "    E_SN = dataList.loc[dataList.Emotion == SN, 'Length']\n",
    "    E_FE = dataList.loc[dataList.Emotion == FE, 'Length']\n",
    "    E_OT = dataList.loc[dataList.Emotion == OT, 'Length']\n",
    "    \n",
    "    # Histogram Graph\n",
    "    config = dict(alpha=0.4, bins=30, edgecolor = \"black\")\n",
    "    plt.figure(figsize=(6,3))\n",
    "    plt.hist(E_DG, **config, color = 'b', label = 'Disgust')\n",
    "    plt.hist(E_EJ, **config, color = 'r', label = 'Enjoyment')\n",
    "    plt.hist(E_AG, **config, color = 'g', label = 'Anger')\n",
    "    plt.hist(E_SP, **config, color = 'c', label = 'Surprise')\n",
    "    plt.hist(E_SN, **config, color = 'm', label = 'Sadness')\n",
    "    plt.hist(E_FE, **config, color = 'y', label = 'Fear')\n",
    "    plt.hist(E_OT, **config, color = 'k', label = 'Other')\n",
    "    plt.ylabel('Frequency')\n",
    "    plt.xlabel('Sentence Length')\n",
    "    plt.legend();\n",
    "    \n",
    "    # Pie Chart\n",
    "    Pie = [len(E_DG),len(E_EJ),len(E_AG),len(E_SP),len(E_SN),len(E_FE),len(E_OT)]\n",
    "    f, Ax = plt.subplots()\n",
    "    Ax.pie(Pie, labels=['DG','EJ','AG','SP','SN','FE','OT'], autopct='%1.0f%%', startangle=90)\n",
    "    Ax.axis('equal')\n",
    "\n",
    "Show_HistGraph_And_PieChart(dataList1)\n",
    "Show_HistGraph_And_PieChart(dataList2)\n",
    "Show_HistGraph_And_PieChart(dataList3)"
   ]
  },
  {
   "cell_type": "markdown",
   "id": "dafdb442",
   "metadata": {},
   "source": [
    "### TASK 2: EMOTION RECOGNITION FOR VIETNAMESE SOCIAL MEDIA TEXT"
   ]
  },
  {
   "cell_type": "markdown",
   "id": "1c368b1b",
   "metadata": {},
   "source": [
    "#### 2.1 Read data from UIT-VSMEC"
   ]
  },
  {
   "cell_type": "code",
   "execution_count": 90,
   "id": "c74139cc",
   "metadata": {},
   "outputs": [],
   "source": [
    "dataTrainUIT = pd.read_excel(\"UIT-VSMEC/train_nor_811.xlsx\", engine='openpyxl')\n",
    "dataValidUIT = pd.read_excel(\"UIT-VSMEC/valid_nor_811.xlsx\", engine='openpyxl')\n",
    "data_TestUIT = pd.read_excel(\"UIT-VSMEC/test_nor_811.xlsx\", engine='openpyxl')\n",
    "\n",
    "# Model\n",
    "model = DecisionTreeClassifier()\n",
    "\n",
    "# Y\n",
    "trainY = dataTrainUIT.Emotion\n",
    "validY = dataValidUIT.Emotion\n",
    "testY  = data_TestUIT.Emotion"
   ]
  },
  {
   "cell_type": "markdown",
   "id": "a97efbe4",
   "metadata": {},
   "source": [
    "#### 2.2 Text preprocess (stopword, word segmentation, learn vocabulary and idf)"
   ]
  },
  {
   "cell_type": "code",
   "execution_count": 91,
   "id": "cecbcac5",
   "metadata": {},
   "outputs": [],
   "source": [
    "def text_process(datasets):\n",
    "    # Stopwords\n",
    "    StopWords = [\n",
    "        'chs','cerrrr','aaaaa','aaaaaaa','aamir','abcxyz','ac','18','200','500','dek','thg','đg','đs','đm','đuma',\n",
    "        'vl','vcl','kkk','dcm','cu','ừm','đĩ','đụ','địt','xl','lol','01','10','100', '11','12','13','14','15','150',\n",
    "        '17','1700''1967','20','21','22','225','23','24','25','26','28','2_','2_3','30','300','3000','320','333',\n",
    "        '33333','40','400','42','45','48', '50','5000','580','60','63','66','75','78','80','800','81','850','90','900',\n",
    "        '99','99999','_200','_5','ah','bn','c3','chg','cp','dòg','hlin','lòn','lôz','tđ','đkm','đkmm','đmaaaa','đmm',\n",
    "        'đmmmmm','đỹ','vcb','vclll','đụ_mẹ','trươ','trưen','amir','ga','1700','1967','bg','chaiii','clm','cmm','cmnl','cã',\n",
    "        'hloz','imdb','kau','kbh','loz','lozzz','lozzzz','matlon','muô','nh','nhma','p30','16','250','56','adm','ngươ'\n",
    "    ]\n",
    "    Tfidf = TfidfVectorizer(stop_words = StopWords)\n",
    "    \n",
    "    # Word Segmentation\n",
    "    WordSeg = []\n",
    "    for i in range(datasets.shape[0]):\n",
    "        sentence_strip = datasets.Sentence[i].strip() # Remove spaces at begin & end\n",
    "        WordSeg.append(word_tokenize(sentence_strip, format='text')) # format text: add \"_\" where text is phrases.\n",
    "    datasets.Sentence = WordSeg # Update new sentences\n",
    "    \n",
    "    # Learn vocabulary and idf.\n",
    "    X = Tfidf.fit_transform(datasets.Sentence)\n",
    "    # Display after processing\n",
    "    print(Tfidf.get_feature_names_out()); print(\"\\n\\n\")\n",
    "    # return document-term matrix after processing\n",
    "    return X\n",
    "\n"
   ]
  },
  {
   "cell_type": "markdown",
   "id": "ef350e69",
   "metadata": {},
   "source": [
    "#### 2.3 Using Train&Valid sets of UIT-VSMEC for training Emotion Recognition model"
   ]
  },
  {
   "cell_type": "code",
   "execution_count": 96,
   "id": "f9e2015f",
   "metadata": {},
   "outputs": [
    {
     "name": "stdout",
     "output_type": "stream",
     "text": [
      "['2000' '2012' '2015' ... 'ức_chế' 'ứng' 'ứng_dụng']\n",
      "\n",
      "\n",
      "\n"
     ]
    }
   ],
   "source": [
    "trainY = dataTrainUIT.Emotion\n",
    "validY = dataValidUIT.Emotion\n",
    "\n",
    "trainValidX = pd.concat([dataTrainUIT, dataValidUIT]).reset_index(drop=True)\n",
    "trainValidX = text_process(trainValidX)\n",
    "trainValidY = pd.concat([trainY, validY]).reset_index(drop=True)\n",
    "\n",
    "trainX, testX, trainY, testY = train_test_split(trainValidX, trainValidY, test_size=0.33, random_state=42)\n",
    "model = model.fit(trainX, trainY)\n",
    "predY = model.predict(testX)\n"
   ]
  },
  {
   "cell_type": "markdown",
   "id": "65191d76",
   "metadata": {},
   "source": [
    "#### 2.3 Performance metrics (Accuracy, F1-score…) for the test sets in UIT-VSMEC"
   ]
  },
  {
   "cell_type": "code",
   "execution_count": 97,
   "id": "1fdd8777",
   "metadata": {},
   "outputs": [
    {
     "name": "stdout",
     "output_type": "stream",
     "text": [
      "Average of Accuracy: 0.36345966958211856\n",
      "Average of F1_Score: 0.3626026766738271\n",
      "Average of Precision: 0.3636147512197342\n"
     ]
    }
   ],
   "source": [
    "Accuracy  = []\n",
    "Precision = []\n",
    "F1_Score  = []\n",
    "\n",
    "Accuracy.append(accuracy_score(testY, predY))\n",
    "F1_Score.append(f1_score(testY, predY, average='weighted'))  # Could change to None,'weighted','micro','macro'\n",
    "Precision.append(precision_score(testY, predY, average='weighted'))\n",
    "\n",
    "averageAccuracy = sum(Accuracy)/len(Accuracy)\n",
    "print(\"Average of Accuracy:\", averageAccuracy)\n",
    "averageF1_Score = sum(F1_Score)/len(F1_Score)\n",
    "print(\"Average of F1_Score:\", averageF1_Score)\n",
    "averagePrecision = sum(Precision)/len(Precision)\n",
    "print(\"Average of Precision:\", averagePrecision)"
   ]
  },
  {
   "cell_type": "markdown",
   "id": "5e45e817",
   "metadata": {},
   "source": [
    "### TASK 3: APPLYING THE TRAINED MODEL IN TASK 2 TO THREE DATASETS IN TASK 1"
   ]
  },
  {
   "cell_type": "markdown",
   "id": "e04a5e17",
   "metadata": {},
   "source": [
    "#### 3.1 Applying the trained model in Task 2 to three datasets in Task 1"
   ]
  },
  {
   "cell_type": "code",
   "execution_count": 98,
   "id": "41268dee",
   "metadata": {},
   "outputs": [
    {
     "name": "stdout",
     "output_type": "stream",
     "text": [
      "['04' '05' '19' ... 'ấу' 'ẩn_chứa' 'ẩu_thả']\n",
      "\n",
      "\n",
      "\n",
      "['04' '190' '2020' '311' '43' '__' '__bò' '__mong' '__một' '__ram' '__teu'\n",
      " '__ăn' '_bảo_đảm' '_lai_tạo' '_mỡ' '_người' '_nhu_' '_như_vậy'\n",
      " '_nhất_định' 'a_hiền_lành' 'a_khoa' 'a_khoa_lam_video' 'a_ít_ra' 'a_ăn'\n",
      " 'a_đầu' 'a_đầu_bếp' 'ah_khoa' 'ai' 'ai_ý' 'an' 'anh' 'anh_chị' 'anh_em'\n",
      " 'aroma' 'bae_cận_cảnh' 'bao_giờ' 'bay' 'becgie' 'beef' 'bia' 'bit' 'biết'\n",
      " 'biết_chừng' 'biểu_diễn' 'bk' 'bt' 'bà' 'bàn' 'bác' 'bán' 'bánh_mì' 'bát'\n",
      " 'bây_giờ' 'bã' 'bãi' 'bé' 'béo' 'bên' 'bí_quyết' 'bò' 'bò_kobe' 'bò_mỹ'\n",
      " 'bò_nhật' 'bù' 'bún_bò_giò' 'bạn' 'bản_chất' 'bắt' 'bắt_buộc'\n",
      " 'bắt_hình_dong' 'bắt_tay' 'bếp' 'bị' 'bịch' 'bọn' 'bố' 'bồi_bàn' 'bổ'\n",
      " 'bộ' 'bữa' 'ca' 'cam_on_khoa' 'camera' 'camera_man' 'cameraman'\n",
      " 'canh_măng' 'cao_cấp' 'caramen' 'cau' 'chac' 'chanh' 'chi' 'chia_se_qua'\n",
      " 'cho' 'cho_phép_mỡ' 'chu_đáo' 'chung' 'chuyen' 'chuyên_nghiệp'\n",
      " 'chuẩn_nhật' 'chuồng' 'chào' 'chào_z' 'chân' 'chén' 'chín' 'chính'\n",
      " 'chóng' 'chú' 'chúc' 'chúng' 'chăm_con_cái' 'chăm_cực' 'chơi' 'chưa'\n",
      " 'chương_trình' 'chạy' 'chảnh' 'chảy' 'chấm' 'chất' 'chật_hẹp' 'chắc'\n",
      " 'chắc_chắn' 'chẳng' 'chặn' 'chế_biến' 'chết' 'chỉ' 'chị' 'chịch_à' 'chịu'\n",
      " 'chỗ' 'chờ' 'chụy' 'chủ_tịch' 'chứ' 'chừng' 'chữ' 'cilp' 'clip' 'co'\n",
      " 'coi' 'com' 'con' 'con_người' 'cong_phu' 'corona' 'cua' 'cube'\n",
      " 'cung_cách' 'cute' 'cuối' 'cuối_cùng' 'cuộc_sống' 'cuộn' 'càng' 'cào'\n",
      " 'cày' 'các' 'cách' 'cái' 'cám_ơn' 'câu' 'cây' 'còn' 'có' 'có_thể'\n",
      " 'công_thức' 'cũng' 'cơ_bản' 'cơ_bắp' 'cơ_thể' 'cơ_địa' 'cười' 'cạnh'\n",
      " 'cạo' 'cả' 'cải' 'cảm_thấy' 'cất' 'cần' 'cậu' 'cắt' 'cỏ' 'cố_tình' 'cộng'\n",
      " 'của' 'cứ' 'cứng_khớp' 'cử_chỉ' 'cực_kì' 'da_bò' 'dai' 'dai_thịt' 'dau'\n",
      " 'dc' 'de' 'di_ăn' 'diep' 'dinh' 'do' 'du_lịch' 'dubai' 'dy' 'dài' 'dành'\n",
      " 'dát' 'dân' 'dòng' 'dù' 'dùng' 'dĩa' 'dơi' 'dường' 'dải' 'dẫn' 'dễ'\n",
      " 'dễ_dàng' 'dễ_thương' 'dịch' 'dọn' 'dọn_dẹp' 'e_an' 'em' 'emthaaysbof'\n",
      " 'fai' 'fan' 'for' 'free_cực' 'gan' 'ghé' 'ghê' 'ghê_' 'gia_vị' 'giàu'\n",
      " 'giá' 'giãn' 'giúp' 'giảm' 'giết' 'giống' 'giới_thiệu' 'giờ' 'giữ'\n",
      " 'gom_góp' 'gân' 'gì' 'gạt' 'gần' 'gần_gũi' 'gặm' 'gặp' 'gọn' 'gốc' 'ha'\n",
      " 'ha_' 'hai' 'hap_dan' 'hay' 'hhuhu' 'hiểu' 'ho' 'house' 'hoàng'\n",
      " 'hoành_tráng' 'hoặc' 'hu' 'hy_vọng' 'hài_lòng' 'hài_thế' 'hành_động'\n",
      " 'hâp' 'hơn' 'hơn_nữa' 'hương_vị' 'hảo_hảo' 'hấp_dẫn' 'hẳn' 'hết' 'họ'\n",
      " 'hỏi' 'hổ' 'hủ' 'im' 'k_thể_nào' 'kem' 'kg' 'khen' 'khi' 'khoa'\n",
      " 'khoa_hỏi' 'khoa_ăn' 'khoái' 'khoái_cảm' 'khác' 'khách' 'khách_hàng'\n",
      " 'khách_sạn' 'khám_phá' 'khâu' 'khó_chịu' 'khô' 'không' 'khúc_đầu_bếp'\n",
      " 'khả_năng' 'khỏe' 'khớp' 'kia' 'kiếm' 'kiểu' 'kkkk' 'ko' 'kobe' 'kèm'\n",
      " 'kéo' 'kênh' 'kêu' 'kích_thích' 'kín' 'ký' 'kết' 'la_lam' 'la_lua'\n",
      " 'lao_động' 'like' 'lo' 'loại' 'luôn' 'là' 'làm' 'làm_ăn_kì' 'lá' 'lát'\n",
      " 'lâu_có_thể' 'lèo' 'lên' 'lò_mổ' 'lúa' 'lúc' 'lưu_thông' 'lạc' 'lại'\n",
      " 'lấy' 'lần' 'lầu' 'lắm' 'lịch_s' 'lịch_sự' 'lốt' 'lớn' 'lợi' 'lợi_thế'\n",
      " 'lợn' 'ma' 'mang' 'masage' 'massage' 'mieng' 'miếng' 'miền' 'miệng'\n",
      " 'model' 'mog' 'mon' 'mon_an' 'mon_ca_hoi' 'mua' 'muối' 'muốn' 'mà' 'máu'\n",
      " 'máy' 'mãi' 'mãi_dãi' 'mãi_mê' 'mì' 'mình' 'món' 'mùa' 'mùi' 'múa' 'mượn'\n",
      " 'mạnh_khỏe' 'mất' 'mấy' 'mắc' 'mắt' 'mặc' 'mặt' 'mẹ' 'mềm' 'mềm_'\n",
      " 'mềm_thơm' 'mền' 'mọi' 'mỏng' 'mổ' 'mỗi' 'một' 'một_chút' 'mới'\n",
      " 'mới_đầu_tưởng' 'mời' 'mỡ' 'mục_đích' 'mục_đích_ép' 'mỳ' 'mỹ' 'nam' 'nay'\n",
      " 'nghe' 'nghèo' 'nghĩ' 'nghề_nghiệp' 'nghệ_thuật' 'ngoan_ngoãn' 'ngon'\n",
      " 'ngon_cực' 'ngon_luon' 'ngon_thái' 'ngon_thơm' 'ngta' 'ngu' 'nguyên_lí'\n",
      " 'nguội' 'ngày' 'ngày_càng' 'ngô' 'người' 'ngược_đãi' 'ngấy' 'ngậm_ngùi'\n",
      " 'ngặm' 'ngỗng_pháp' 'ngửi' 'nha' 'nhanh' 'nhat' 'nhau' 'nhiều'\n",
      " 'nhiệt_tình' 'nhoe' 'nhoét' 'nhà' 'nhà_hàng' 'nhà_vệ_sinh' 'nhá'\n",
      " 'nhân_cách' 'nhân_viên' 'nhé_khoa' 'nhìn' 'như' 'như_vậy' 'nhưng' 'nhạc'\n",
      " 'nhảy_múa' 'nhất' 'nhất_định' 'nhẩt' 'nhận' 'nhật' 'nhật__' 'nhật_bản'\n",
      " 'nhật_đập_vô' 'nhắc' 'nhẹ' 'nhỉ' 'nhỏ' 'nhốt' 'nhớ' 'những' 'những_ai'\n",
      " 'noi' 'nuôi' 'nào' 'này' 'nè' 'ném' 'nên' 'nó' 'nói' 'nói_chuyện'\n",
      " 'nói_dạ_dạ' 'nói_năng' 'nói_thẳng' 'năm' 'nơi' 'nước' 'nước_miếng'\n",
      " 'nước_ngoài' 'nướng' 'nạc' 'nấu' 'nấu_ăn' 'nằm' 'nổi_tiếng' 'nộm' 'nửa'\n",
      " 'nữ' 'nữa' 'oi' 'ok' 'oz' 'oải' 'phi' 'phong_cách' 'phong_cách_phục_vụ'\n",
      " 'phát' 'phát_triển' 'phát_tướng' 'phát_điên' 'phép' 'phóng_dao' 'phường'\n",
      " 'phải' 'phấn_đầu' 'phần' 'phụ_caramen' 'phụ_nữ' 'phụ_nữ_quyền_lực'\n",
      " 'phụ_vụ' 'phục_vụ' 'qua' 'qua_mặt' 'quan' 'quan_trọng' 'quan_điểm' 'quay'\n",
      " 'quay_phim' 'quen_k' 'quá' 'quán' 'quên' 'quý' 'quảng_ngãi' 'quận'\n",
      " 'r_cảm' 'ra' 'rat' 'rat_la' 'review' 'review_salt' 'reviewer' 'rideye'\n",
      " 'riêng' 'ruột' 'rì_viu' 'rìa' 'rùi' 'răng' 'rất' 'rắc' 'rắc_thính' 'rắt'\n",
      " 'rồi' 'rớt' 'rụp' 'rửa' 'sang' 'sao' 'sau' 'se' 'sg' 'sinh_vật' 'so'\n",
      " 'sung_sướng' 'sông' 'sưng' 'sướng' 'sậy' 'sặc_haha' 'sẽ' 'số' 'sống'\n",
      " 'sợi' 'sức_khỏe' 'ta' 'tan' 'tay' 'tay_nghề_ảnh' 'tay_sẻ' 'teppanyaki'\n",
      " 'texas' 'thanh_xuân' 'thanks' 'thay' 'theo' 'thich_loi' 'thik_nhây'\n",
      " 'thit' 'thiếu' 'thoi' 'thuc' 'thui' 'thuong' 'thuê' 'thuần_chủng' 'thành'\n",
      " 'thành_công' 'thân_thiện' 'thèm' 'thèm_thui' 'thêm' 'thì' 'thích'\n",
      " 'thích_a_review' 'thích_video' 'thích_xem_review' 'thôi' 'thôi__'\n",
      " 'thông_báo' 'thùng' 'thú_vị' 'thúc_ép' 'thơm' 'thương' 'thương_hiệu'\n",
      " 'thường' 'thưởng_thức' 'thượng_hạng' 'thượng_đế' 'thấy' 'thật' 'thật_sự'\n",
      " 'thế' 'thế_là' 'thế_nào' 'thỉnh_thoảng' 'thịt' 'thổ_nhĩ_kì' 'thớ' 'thứ'\n",
      " 'thức_ăn' 'thử' 'thực_ra' 'tin' 'tinh_tế' 'tiếng' 'tiếp_tân' 'tiền' 'toi'\n",
      " 'toàn' 'toàn_tâm' 'toàn_ý' 'tr' 'trang_tri_dep' 'trang_trí' 'trc'\n",
      " 'trc_múa_quạt_kinh' 'tre' 'trieu' 'trong' 'trung' 'trung_ăn' 'trên'\n",
      " 'trình_diễn' 'trước' 'trưởng' 'trại' 'trời' 'tu_tu' 'tui' 'tung' 'tuong'\n",
      " 'tuyệt_' 'tuyệt_vời' 'tuân_trẻ_trâu' 'tuần' 'tuổi' 'tào_lao' 'tìm' 'tí'\n",
      " 'tích_mỡ' 'tô' 'tôi' 'tôm' 'tôn_trọng' 'tươi_băm' 'tưởng' 'tưởng_tượng'\n",
      " 'tại' 'tất_nhiên' 'tận' 'tận_tình' 'tỉnh_thành' 'tối' 'tốt' 'tội_camera'\n",
      " 'tội_nghiệp' 'tới' 'tủ_lạnh' 'từ' 'từ_từ' 'từng' 'tự' 'tự_nhiên' 'uiii'\n",
      " 'uống' 'va' 'va_ho_la' 'va_tuyet_voi' 'vao' 'vay' 'vd' 'vi_mieng' 'vid'\n",
      " 'video' 'video_a_review' 'viétub' 'viêm' 'việc_làm' 'việt' 'việt_nam'\n",
      " 'vn' 'vs' 'vua' 'vui' 'vut' 'và' 'vàng' 'vào' 'vì' 'vô_mồm'\n",
      " 'vô_nhà_vệ_sinh' 'vẫn' 'vận_động' 'vật' 'vậy' 'về' 'vị' 'vốn_dĩ' 'vỗ'\n",
      " 'với' 'vừa' 'xem' 'xin' 'xoa' 'xong' 'xuống' 'xào_hành' 'xã_hội'\n",
      " 'xúc_xích' 'xĩu_anh_khoa' 'xương' 'xịn' 'xủi' 'xứ_sở' 'your' 'youtobe'\n",
      " 'youtober' 'youtube' 'youtuber' 'yêu' 'yếu' 'yếu_ớt' 'á_hả' 'á_kk'\n",
      " 'á_mắc' 'áo' 'ép' 'ép_ăn' 'êm_ái' 'ít' 'ít_ra' 'ông' 'ý_kiến' 'ăn' 'ăn_'\n",
      " 'ăn__' 'ăn_bò' 'ăn_dc' 'ăn_k' 'ăn_lui' 'ăn_mệt_thiệt' 'ăn_theo'\n",
      " 'ăn_thoải_mái' 'ăn_tưởng_tượng' 'ăn_tới' 'ăn_ở' 'ănkhông' 'đam_mê'\n",
      " 'đan_xen' 'đang' 'đc' 'đi' 'đi_lại' 'đi_nữa' 'điên_loạn' 'điều'\n",
      " 'điều_kiện' 'điểm_danh' 'điệu' 'đàng' 'đào_tạo' 'đá' 'đáng' 'đâu' 'đã'\n",
      " 'đó' 'đói' 'đông_lạnh' 'đúng' 'đơn_giản' 'đường' 'được' 'đảm_bảo' 'đầu'\n",
      " 'đầu_bếp' 'đầu_tiên' 'đầy' 'đẩy' 'đậu' 'đắt' 'đặc_biệt' 'đẹp' 'đẹp_mắt_'\n",
      " 'đẹp_đẽ' 'đến' 'đều' 'để' 'đỉnh' 'đọc' 'đỏ' 'đồ_ăn' 'đồn' 'đồng_tiền'\n",
      " 'đồng_ý' 'độ' 'đời' 'đở' 'đỡ' 'đợi' 'đủ' 'đứa' 'đứng' 'đừng' 'ơi' 'ạ__'\n",
      " 'ảnh' 'ấy' 'ẩm_thực_đc' 'ỉa_vs_ỗng' 'ổng' 'ực_ực_ực']\n",
      "\n",
      "\n",
      "\n",
      "['00' '1000' '2014' '2019' '2021' '43' '55' '59' '__' '__chúc' '__giữ'\n",
      " '__năm' '__thương' '__zoom' '_cameraman_quay_phim' '_chúc_anh_nhiều' '_p'\n",
      " '_tự_hào' '_zoom_địa_điểm' 'a_di' 'a_e' 'a_khoa' 'a_ngày_càng' 'ai'\n",
      " 'ai_cập' 'all_can' 'an_bình' 'an_do' 'anh' 'anh_khoa' 'ba_mẹ' 'bao_giờ'\n",
      " 'bay' 'bbc' 'bh' 'biến' 'biến_đổi' 'biết' 'biết_ơn' 'biển' 'blessing'\n",
      " 'bon_chen' 'bth' 'buồn' 'bán' 'bánh' 'bánh_cho' 'bánh_phát' 'bánh_tặng'\n",
      " 'bánh_từ_thiện' 'báo' 'báo_chí' 'bây_giờ' 'bãi' 'bên' 'bình_an'\n",
      " 'bình_luận' 'bình_thường' 'bình_yên' 'bùng_phát' 'bạn' 'bạo_thật_sự'\n",
      " 'bảo' 'bảo_trọng_nha' 'bảo_vệ' 'bất_cứ' 'bất_tử' 'bẩn' 'bắt_gặp' 'bằng'\n",
      " 'bến_xe' 'bệnh_tật' 'bị' 'bỗng' 'bộ_lạc' 'bớt' 'bờ' 'bởi' 'bởi_vì' 'bụi'\n",
      " 'bức_xúc' 'c_careman' 'ca' 'camera' 'camera_man' 'cameraman'\n",
      " 'cameraman_chuyên_nghiệp' 'cammera' 'can_đảm' 'cao' 'caramen' 'cha_mẹ'\n",
      " 'chi' 'chi_tiết' 'chia_sẻ' 'chia_sẻ_video' 'chiếc' 'chiều' 'cho'\n",
      " 'chu_đáo' 'chuyến' 'chuyện' 'chàn' 'chân_thật' 'chân_thực' 'châu_lục'\n",
      " 'chén' 'chê' 'chênh_lệch' 'chính_phủ' 'chính_quyền' 'chú' 'chúc'\n",
      " 'chúc_khoa' 'chúng_ta' 'chơi' 'chưa' 'chả' 'chảnh' 'chất_lượng' 'chắc'\n",
      " 'chẳng' 'chết' 'chỉ' 'chị' 'chịu' 'chọn' 'chỗ' 'chớ' 'chờ' 'chời' 'chục'\n",
      " 'chủ' 'chủ_đề' 'chủng_delta' 'chứ' 'clip' 'clip_hịn' 'clip_liêu' 'coi'\n",
      " 'comeback' 'con' 'con_người' 'corona' 'covid' 'covid_ghê' 'covit' 'cuối'\n",
      " 'cuốn_hút' 'cuộc_sống' 'cuộc_sống_hiện_tại' 'càng' 'các' 'cách' 'cái'\n",
      " 'cám_ơn' 'cám_ơn_khoa' 'câu' 'còi' 'còn' 'có' 'có_lẽ' 'có_lẽ_ấn_độ'\n",
      " 'có_thể' 'có_vẻ' 'cô' 'công_cộng' 'công_nhận' 'công_tác' 'cùng'\n",
      " 'cùng_với' 'cúm' 'căng' 'cũng' 'cạnh' 'cả' 'cảm_giác' 'cảm_nhận'\n",
      " 'cảm_phục' 'cảm_thấy' 'cảm_thấy_hạnh_phúc' 'cảm_thấy_yêu' 'cảm_tạ'\n",
      " 'cảm_động' 'cảm_ơn' 'cảm_ơn_anh_chị' 'cảm_ơn_khoa' 'cảnh' 'cảnh_giác'\n",
      " 'cấm' 'cấm_biên' 'cần' 'cầu_mong' 'cẩn_thận' 'cắm' 'cố' 'cốt' 'cổ' 'cộng'\n",
      " 'cớ' 'của' 'củi' 'cứ' 'cứu' 'cực' 'd_ae' 'da' 'danh_sách' 'dc_sinh'\n",
      " 'di_tích_lịch_sử' 'discovery' 'do' 'doanh_nghiệp' 'du_khách' 'du_lịch'\n",
      " 'dubai' 'duy_nhất' 'dám' 'dân' 'dân_cư' 'dân_dã' 'dân_số' 'dân_tộc'\n",
      " 'dòng' 'dù' 'dùm' 'dơ_ổng' 'dưới' 'dạng' 'dạo' 'dầu' 'dễ' 'dễ_chịu'\n",
      " 'dễ_thương' 'dịch' 'dịch_bệnh' 'em' 'fan' 'food' 'ganga_aarti' 'ghánh'\n",
      " 'ghép' 'gia_đình' 'giup' 'già_yếu' 'giàu' 'giàu_có' 'giá_trị' 'giúp'\n",
      " 'giúp_việc' 'giúp_đỡ' 'giải_đáp' 'giảng_dạy' 'giật' 'giặt_dũ' 'giống'\n",
      " 'giới' 'giới_thiệu' 'giờ' 'gái' 'gánh' 'gây' 'gê' 'gì' 'góp_phần' 'gần'\n",
      " 'gắn' 'gặp' 'gọi' 'haha' 'hai' 'hay' 'hello' 'hic' 'hindu' 'hiền'\n",
      " 'hiền_lành' 'hiểu' 'hiểu_biết' 'hk' 'hoan_nghêng' 'hoang' 'homeless'\n",
      " 'hot' 'hoặc' 'huhu' 'hài_hước' 'hài_lòng' 'hàng' 'hàng_gian' 'hành_động'\n",
      " 'hãy' 'hình_dung' 'hình_thành' 'hình_ảnh' 'hóa_hindu' 'hôm_nay' 'hơi'\n",
      " 'hơn' 'hơn_bao_giờ_hết' 'hơn_nữa' 'hạnh_phúc' 'hấp_dẫn' 'hầu_như'\n",
      " 'hậu_duệ' 'hậu_quả' 'hậu_sự' 'hằng' 'hết' 'họ' 'học' 'học_hỏi' 'hỏa'\n",
      " 'hỏa_thiêu' 'hỏa_táng' 'hỏng' 'hồi' 'hồi_hộp' 'hồi_hộp_dùm' 'hộ'\n",
      " 'hủ_tục_lạc_hậu' 'hứng_chịu' 'inh_ỏi' 'is' 'iu' 'kh' 'khi' 'khiếp_đảm'\n",
      " 'khoa' 'khoa_cực_kỳ' 'khoa_lặn_lội' 'khoa_nói_xấu' 'khoa_pug'\n",
      " 'khoa_pug_tặng' 'khoa_thuyết_minh_dễ_thương' 'khoapug' 'khoảng' 'khu'\n",
      " 'khu_phố' 'khá' 'khác' 'khét_kinh_dị' 'khó_khăn' 'không' 'không_chỉ'\n",
      " 'khỏe' 'khỏi' 'khổ_trang' 'khủng_khiếp' 'khựa' 'kia' 'kinh_khủng'\n",
      " 'kiến_thức' 'kiểu' 'km' 'ko' 'kém' 'kênh' 'kênh_youtube' 'kể_cả' 'kịp'\n",
      " 'kỳ_lạ' 'kỷ_niệm' 'kỹ' 'kỹ_thuật' 'la_liệt' 'like' 'liên_miệng'\n",
      " 'liên_quan' 'liên_tục' 'lo' 'lo_hậu_sự' 'luyên_thuyên' 'luôn' 'luông'\n",
      " 'là' 'làm' 'làm_vậy' 'lành' 'lâu_đài' 'lê_lết' 'lên' 'lò_hỏa_thiêu'\n",
      " 'lò_thiêu_hoạt_động' 'lòng' 'lúc' 'lúc_nào' 'lý_do_khiến_phối' 'lạ'\n",
      " 'lạ_thường' 'lạc_hậu' 'lại' 'lạnh' 'lấy' 'lần' 'lẫn' 'lận' 'lắm' 'lễ'\n",
      " 'lễ_hội' 'lớn' 'lớn_tiếng' 'mai_táng' 'mang' 'may' 'may_mắn' 'mh' 'miền'\n",
      " 'mn' 'mong' 'mong_a' 'mua' 'muốn' 'mà' 'mà_còn' 'màu' 'máu' 'máy_bay'\n",
      " 'mãi' 'mè' 'mình' 'móc_túi' 'món' 'môi_trường' 'mùa' 'mùi' 'mạnh'\n",
      " 'mạnh_khỏe' 'mạnh_mẽ' 'mạo_hiểm' 'mất' 'mất_thiện_cảm' 'mấy' 'mắt' 'mặc'\n",
      " 'mặt' 'mẹ' 'mệnh_giá' 'mệt' 'mọi' 'mỗi' 'mộ_a' 'một' 'một_cách_tự_nhiên'\n",
      " 'một_số' 'mới' 'mới_lạ' 'mở_rộng' 'mỡ' 'mức_độ' 'nay' 'nc'\n",
      " 'new_delhe_chẳng_hạn' 'new_delhi' 'ng' 'ngay' 'nghe' 'nghi_thức' 'nghèo'\n",
      " 'nghèo_khó' 'nghèo_nàn' 'nghèo_đói' 'nghĩ' 'nghỉ' 'ngoài' 'nguy_hiểm'\n",
      " 'nguyên_thủy' 'ngàn' 'ngày' 'ngày_đêm' 'ngưoengx' 'người' 'người_dân'\n",
      " 'ngưỡng_mộ' 'ngại_khổ' 'ngủ' 'ngừoi' 'ngửi' 'nha' 'nha_khoa' 'nhanh'\n",
      " 'nhau' 'nhiều' 'nhiễm' 'nhà' 'nhà_có_thể' 'nhà_trọ' 'nhà_vệ_sinh'\n",
      " 'nhân_hậu' 'nhân_văn' 'nhé' 'nhìn' 'nhìn_khoa' 'nhìu' 'như' 'như_thế'\n",
      " 'như_vậy' 'nhưng' 'nhất' 'nhật_duyên_thầm' 'nhắc' 'nhớ' 'nhờ' 'những'\n",
      " 'nice_khoa' 'ntn' 'nào' 'này' 'nét' 'nên' 'nó' 'nói' 'nói_chung' 'nóng'\n",
      " 'nóng_lạnh' 'nôn' 'núi' 'năm' 'nơi' 'nước' 'nước_lớn' 'nước_ngoài' 'nạn'\n",
      " 'nằm' 'nặng' 'nếu' 'nể' 'nổ_lực' 'nổi' 'nổi_tiếng' 'nội_dung' 'nội_khoa'\n",
      " 'nữ' 'nữa' 'ok' 'pha' 'phim' 'phim_tài_liệu' 'phim_ảnh' 'phong_cách'\n",
      " 'phong_kiến' 'pháp' 'phát' 'phát_triển' 'phân_phát' 'phép' 'phía' 'phút'\n",
      " 'phước_tâm_nhân_ái' 'phải' 'phần' 'phần_đông' 'phật_thuyết_giảng'\n",
      " 'phụ_nữ' 'phụ_đề' 'phức_tạp' 'pug' 'qua' 'qua_loa' 'quan_chức_tự_lập'\n",
      " 'quan_tâm' 'quay' 'quyết_địhj' 'quài' 'quá' 'quá_chừng' 'quên' 'quý' 'ra'\n",
      " 'review' 'review_' 'riêng' 'rì_wieu' 'rõ' 'rùng_mình' 'rải' 'rất' 'rằng'\n",
      " 'rồi' 'rửa' 'rửa_tội' 'sang' 'sanh' 'sao' 'sau' 'seri' 'sharing' 'sinh'\n",
      " 'sinh_hoạt' 'sinh_ra' 'sk_để' 'so' 'suống' 'suốt' 'sàn_khôn' 'sát' 'sông'\n",
      " 'sơ_sơ' 'sướng_chán' 'sạp' 'sảy' 'sầm_uất' 'sẽ' 'số' 'sống' 'sớm' 'sợ'\n",
      " 'sức' 'sức_khỏe' 'sự' 'ta' 'tao' 'thanks' 'thay_đổi' 'the' 'theo'\n",
      " 'thi_thể' 'thing' 'thiêu' 'thiêu_xác' 'thiếu_hụt' 'thiện_cảm' 'thiệt'\n",
      " 'thiệt_sự' 'thoát' 'thoải_mái' 'thuyết_minh' 'thuê' 'thành_kính'\n",
      " 'thành_phố' 'tháng' 'thánh_địa_linh_thiêng' 'thê_giới' 'thêm' 'thì'\n",
      " 'thích' 'thích_hợp' 'thích_nhất_là' 'thích_đoạn' 'thôi' 'thông_tin'\n",
      " 'thăm_quan' 'thương' 'thương_a' 'thước' 'thả' 'thảm_họa' 'thấy'\n",
      " 'thậm_trí' 'thật' 'thật_ra' 'thật_sự' 'thật_tiếc' 'thế_giới' 'thế_hệ'\n",
      " 'thế_này' 'thồi' 'thời' 'thời_điểm' 'thủ_đô' 'thủy_táng' 'thứ' 'thức_ăn'\n",
      " 'thực_sự' 'thực_sự_độc_đáo' 'thực_tế' 'tin' 'tiếng' 'tiếp' 'tiếp_tục'\n",
      " 'tiền' 'tks_mr_khoa' 'to' 'toàn' 'toàn_tập' 'tp' 'tr' 'trc' 'triệu' 'tro'\n",
      " 'trong' 'trung_quốc' 'trân_trọng' 'trên' 'trôi' 'trông' 'trùm' 'trăm'\n",
      " 'trăm_ngàn' 'trước' 'trả_lời' 'trải' 'trải_nghiệm' 'trời' 'trời_đất'\n",
      " 'trở_thành' 'trực_quan' 'trực_thăng' 'tui' 'tuyệt_vời' 'tuần' 'tàn_phá'\n",
      " 'tàu' 'tâm' 'tâm_sự' 'tên' 'tìm_hiểu' 'tình_hình_covid' 'tình_thần'\n",
      " 'tình_trạng' 'tín_ngưỡng' 'tính' 'tôi' 'tôn_giáo' 'tôn_vinh' 'túi'\n",
      " 'tươi_đẹp' 'tưởng' 'tưởng_tượng' 'tại' 'tấm' 'tất_cả' 'tầm_cỡ' 'tẩu'\n",
      " 'tận_mắt' 'tận_tâm' 'tập' 'tập_huấn' 'tập_trug' 'tắm' 'tệ_hại' 'tỏ_lòng'\n",
      " 'tốt' 'tốt_bụng' 'tốt_đẹp' 'tổ_quốc' 'tổng_cty' 'tội' 'tới' 'từ'\n",
      " 'từ_thiện' 'từ_thiện_vô_cùng' 'tử_vong' 'tự_hào' 'tự_nhiên' 'tỷ_phú' 'ui'\n",
      " 'varanasi' 'ven' 'very' 'video' 'video_review_cùa' 'virut' 'việt_nam'\n",
      " 'việt_nam_tự_hào' 'vn' 'vs' 'vui_vẻ' 'và' 'vài' 'vàng' 'vào' 'váng' 'vì'\n",
      " 'vòng_quanh' 'vô' 'vô_cùng' 'vô_gia_cư' 'vô_gia_cư_thương' 'văn_hóa'\n",
      " 'vương_gia' 'vượt' 'vấn_đề' 'vẫn' 'vậy' 'vậy_mà' 'về' 'vệ_sinh' 'vị_trí'\n",
      " 'vội_like' 'với' 'vợi' 'we' 'with' 'xa' 'xa_vời' 'xe' 'xem' 'xem_lại'\n",
      " 'xem_lại_video' 'xin' 'xinh_đẹp' 'xong' 'xuống' 'xà_bông' 'xác'\n",
      " 'xót_thương_cs' 'xông' 'xông_pha' 'xúc_động' 'xưa' 'xẽ' 'xế_hộp' 'xếp'\n",
      " 'youtube' 'youtube_đề_xuất' 'youtuber' 'ytb' 'yên_bình' 'yêu'\n",
      " 'yêu_việt_nam' 'yếu_tố' 'á_triệu' 'ám_ảnh_phá' 'ánh' 'áo_khoác' 'ít'\n",
      " 'ít_ra' 'ô_nhiễm' 'ôi' 'ông' 'ý__' 'ý_nghĩa' 'ý_thức' 'ăn' 'ăn_mặc'\n",
      " 'ăn_xin' 'ăn_xin_cảm_ơn_anh' 'đa_phần' 'đa_số' 'đang' 'đc' 'đc_mệnh_danh'\n",
      " 'đeo' 'đi' 'điều' 'điều_kiện' 'điểm' 'đoạn' 'đà_phật' 'đàn_ông' 'đá'\n",
      " 'đáng' 'đáng_giá' 'đâu' 'đây' 'đã' 'đính_chính' 'đó' 'đói_hoành_hành'\n",
      " 'đông_đúc' 'đúng' 'đăng_ký' 'đương_thời' 'đường' 'đường_ray' 'được'\n",
      " 'đại_dịch' 'đại_họa' 'đạp' 'đảng' 'đất' 'đất_nước' 'đất_nước_ấn_độ'\n",
      " 'đất_đai' 'đầu' 'đầu_tiên' 'đầy' 'đầy_đủ' 'đậm_đặc_văn' 'đằng' 'đặc_biệt'\n",
      " 'đặt' 'đẹp' 'đẹp_trai' 'đến' 'đến_nỗi' 'đề_xuất' 'để' 'địa_chủ'\n",
      " 'địa_cầu_' 'địa_lí' 'địa_lý' 'địa_điểm' 'đọc' 'đỏ' 'đối_sử_tệ' 'đối_với'\n",
      " 'đốt' 'đồ_ăn' 'đồng_bằng' 'đồng_nghiệp' 'đồng_nghiệp_ấn_độ' 'đổ' 'đổi'\n",
      " 'độ' 'đời' 'đời_sống' 'đời_thường' 'đợi' 'đục_ngầu' 'đủ' 'đứa' 'đức_phật'\n",
      " 'đứng' 'đừng' 'ơi' 'ảnh' 'ấn' 'ấn_mình' 'ấn_nghe' 'ấn_siêu_khỏe'\n",
      " 'ấn_tượng' 'ấn_độ' 'ấn_độ_' 'ấn_độ_hoang_tàn' 'ấn_độ_kênh' 'ấy' 'ầm'\n",
      " 'ẩm_thực' 'ắt' 'ổng' 'ủng_hộ']\n",
      "\n",
      "\n",
      "\n"
     ]
    }
   ],
   "source": [
    "dataListY1 = dataList1.Emotion\n",
    "dataListY2 = dataList2.Emotion\n",
    "dataListY3 = dataList3.Emotion\n",
    "\n",
    "dataListX1 = text_process(dataList1)\n",
    "trainX1, testX1, trainY1, testY1 = train_test_split(dataListX1, dataListY1, test_size=0.33, random_state=42)\n",
    "model = model.fit(trainX1, trainY1)\n",
    "predY1 = model.predict(testX1)\n",
    "\n",
    "dataListX2 = text_process(dataList2)\n",
    "trainX2, testX2, trainY2, testY2 = train_test_split(dataListX2, dataListY2, test_size=0.33, random_state=42)\n",
    "model = model.fit(trainX2, trainY2)\n",
    "predY2 = model.predict(testX2)\n",
    "\n",
    "dataListX3 = text_process(dataList3)\n",
    "trainX3, testX3, trainY3, testY3 = train_test_split(dataListX3, dataListY3, test_size=0.33, random_state=42)\n",
    "model = model.fit(trainX3, trainY3)\n",
    "predY3 = model.predict(testX3)"
   ]
  },
  {
   "cell_type": "markdown",
   "id": "3f62756c",
   "metadata": {},
   "source": [
    "#### 3.2 Performance metrics (Accuracy, F1-score…) for these datasets"
   ]
  },
  {
   "cell_type": "code",
   "execution_count": 99,
   "id": "99668e76",
   "metadata": {},
   "outputs": [
    {
     "name": "stdout",
     "output_type": "stream",
     "text": [
      "Average of Accuracy 1: 0.3333333333333333\n",
      "Average of F1_Score 1: 0.3333333333333333\n",
      "Average of Precision 1: 0.3333333333333333\n",
      "Average of Accuracy 2: 0.45454545454545453\n",
      "Average of F1_Score 2: 0.45454545454545453\n",
      "Average of Precision 2: 0.45454545454545453\n",
      "Average of Accuracy 3: 0.45454545454545453\n",
      "Average of F1_Score 3: 0.21212121212121213\n",
      "Average of Precision 3: 0.21212121212121213\n"
     ]
    }
   ],
   "source": [
    "Accuracy1  = []\n",
    "Precision1 = []\n",
    "F1_Score1  = []\n",
    "\n",
    "Accuracy1.append(accuracy_score(testY1, predY1))\n",
    "F1_Score1.append(f1_score(testY1, predY1, average='micro'))  # Could change to None,'weighted','micro','macro'\n",
    "Precision1.append(precision_score(testY1, predY1, average='micro'))\n",
    "\n",
    "averageAccuracy1 = sum(Accuracy1)/len(Accuracy1)\n",
    "print(\"Average of Accuracy 1:\", averageAccuracy1)\n",
    "averageF1_Score1 = sum(F1_Score1)/len(F1_Score1)\n",
    "print(\"Average of F1_Score 1:\", averageF1_Score1)\n",
    "averagePrecision1 = sum(Precision1)/len(Precision1)\n",
    "print(\"Average of Precision 1:\", averagePrecision1)\n",
    "\n",
    "Accuracy2  = []\n",
    "Precision2 = []\n",
    "F1_Score2  = []\n",
    "\n",
    "Accuracy2.append(accuracy_score(testY2, predY2))\n",
    "F1_Score2.append(f1_score(testY2, predY2, average='micro'))  # Could change to None,'weighted','micro','macro'\n",
    "Precision2.append(precision_score(testY2, predY2, average='micro'))\n",
    "\n",
    "averageAccuracy2 = sum(Accuracy2)/len(Accuracy2)\n",
    "print(\"Average of Accuracy 2:\", averageAccuracy2)\n",
    "averageF1_Score2 = sum(F1_Score2)/len(F1_Score2)\n",
    "print(\"Average of F1_Score 2:\", averageF1_Score2)\n",
    "averagePrecision2 = sum(Precision2)/len(Precision2)\n",
    "print(\"Average of Precision 2:\", averagePrecision2)\n",
    "\n",
    "Accuracy3  = []\n",
    "Precision3 = []\n",
    "F1_Score3  = []\n",
    "\n",
    "Accuracy3.append(accuracy_score(testY3, predY3))\n",
    "F1_Score3.append(f1_score(testY3, predY3, average='micro'))  # Could change to None,'weighted','micro','macro'\n",
    "Precision3.append(precision_score(testY3, predY3, average='micro'))\n",
    "\n",
    "averageAccuracy3 = sum(Accuracy3)/len(Accuracy3)\n",
    "print(\"Average of Accuracy 3:\", averageAccuracy2)\n",
    "averageF1_Score3 = sum(F1_Score3)/len(F1_Score3)\n",
    "print(\"Average of F1_Score 3:\", averageF1_Score3)\n",
    "averagePrecision3 = sum(Precision3)/len(Precision3)\n",
    "print(\"Average of Precision 3:\", averagePrecision3)"
   ]
  }
 ],
 "metadata": {
  "kernelspec": {
   "display_name": "Python 3",
   "language": "python",
   "name": "python3"
  },
  "language_info": {
   "codemirror_mode": {
    "name": "ipython",
    "version": 3
   },
   "file_extension": ".py",
   "mimetype": "text/x-python",
   "name": "python",
   "nbconvert_exporter": "python",
   "pygments_lexer": "ipython3",
   "version": "3.11.1"
  }
 },
 "nbformat": 4,
 "nbformat_minor": 5
}
