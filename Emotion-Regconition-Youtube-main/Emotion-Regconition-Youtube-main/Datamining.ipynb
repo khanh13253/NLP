{
 "cells": [
  {
   "cell_type": "markdown",
   "metadata": {},
   "source": [
    "### IMPORT PACKAGES"
   ]
  },
  {
   "cell_type": "code",
   "execution_count": 1,
   "metadata": {},
   "outputs": [
    {
     "name": "stderr",
     "output_type": "stream",
     "text": [
      "C:\\Users\\Admin\\AppData\\Roaming\\Python\\Python311\\site-packages\\tqdm\\auto.py:21: TqdmWarning: IProgress not found. Please update jupyter and ipywidgets. See https://ipywidgets.readthedocs.io/en/stable/user_install.html\n",
      "  from .autonotebook import tqdm as notebook_tqdm\n"
     ]
    }
   ],
   "source": [
    "import os\n",
    "import time\n",
    "import pandas as pd\n",
    "from selenium.webdriver import Chrome\n",
    "from selenium.webdriver.common.by import By\n",
    "from selenium.webdriver.common.keys import Keys\n",
    "from selenium.webdriver.chrome.service import Service\n",
    "from selenium.webdriver.support.ui import WebDriverWait as WDW\n",
    "from selenium.webdriver.support import expected_conditions as EC\n",
    "from sklearn.model_selection import train_test_split\n",
    "from sklearn.tree import DecisionTreeClassifier\n",
    "from sklearn.metrics import f1_score, accuracy_score, precision_score\n",
    "from sklearn.feature_extraction.text import TfidfVectorizer\n",
    "#!pip install torch --use-feature=2020-resolver\n",
    "from underthesea import word_tokenize\n",
    "from xlrd import open_workbook\n",
    "import matplotlib.pyplot as plt\n",
    "%matplotlib inline"
   ]
  },
  {
   "cell_type": "code",
   "execution_count": 2,
   "metadata": {},
   "outputs": [
    {
     "name": "stdout",
     "output_type": "stream",
     "text": [
      "True\n"
     ]
    }
   ],
   "source": [
    "import os\n",
    "print(os.path.exists('./chromedriver.exe'))  # True nếu đúng"
   ]
  },
  {
   "cell_type": "markdown",
   "metadata": {},
   "source": [
    "### TASK 1: COLLECTING DATA"
   ]
  },
  {
   "cell_type": "markdown",
   "metadata": {},
   "source": [
    "#### 1.1 Functions to Get data from 3 Youtube Videos (Khoa Pug)"
   ]
  },
  {
   "cell_type": "code",
   "execution_count": 3,
   "metadata": {},
   "outputs": [],
   "source": [
    "# Create ChromeDriver to executable that Selenium WebDriver uses to control Chrome\n",
    "def ChromeDriver(url,t):\n",
    "    data = []\n",
    "    service = Service(executable_path=r'D:\\hoctrentruong\\DAT\\project\\Emotion-Regconition-Youtube-main\\Emotion-Regconition-Youtube-main/chromedriver.exe')\n",
    "    with Chrome(service=service) as ChD:\n",
    "        wait = WDW(ChD,t)\n",
    "        ChD.get(url)\n",
    "        for item in range(101): \n",
    "            wait.until(EC.visibility_of_element_located((By.TAG_NAME, \"body\"))).send_keys(Keys.END)\n",
    "            time.sleep(t)\n",
    "        for comment in wait.until(EC.presence_of_all_elements_located((By.CSS_SELECTOR, \"#content\"))):\n",
    "            if(len(str(comment.text))>10): # Do not accept short comment or doesn't mean much\n",
    "                data.append(comment.text)\n",
    "            if(len(data)==103): # 100 comments + 3(title,description,first comment of Khoa Pug)\n",
    "                break\n",
    "    return data\n",
    "\n",
    "def getData_Video(url,t):\n",
    "    data = ChromeDriver(url,t)\n",
    "    while(len(data)==103):\n",
    "        for i in range(3): # Remove 3(title,description,first comment of Khoa Pug)\n",
    "            data.pop(0)\n",
    "        print(\"Success!! Crawled 100 comments from Video [\" + url.split(\"v=\")[1] + \"]!\")\n",
    "        return data\n",
    "    print(\"Failed!! Please try again.\")\n",
    "    return data"
   ]
  },
  {
   "cell_type": "markdown",
   "metadata": {},
   "source": [
    "#### 1.2 Choose 3 Videos and Make storageDir"
   ]
  },
  {
   "cell_type": "code",
   "execution_count": 4,
   "metadata": {},
   "outputs": [],
   "source": [
    "url1 = \"https://www.youtube.com/watch?v=hassqXTvsXM\"\n",
    "url2 = \"https://www.youtube.com/watch?v=RG-dXrbRNuw\"\n",
    "url3 = \"https://www.youtube.com/watch?v=ipSpPzFqNH0\"\n",
    "\n",
    "storageDir = \"dataList/\"\n",
    "if not os.path.exists(storageDir):\n",
    "    os.makedirs(storageDir)"
   ]
  },
  {
   "cell_type": "markdown",
   "metadata": {},
   "source": [
    "#### 1.3 Crawling 100 comments"
   ]
  },
  {
   "cell_type": "code",
   "execution_count": 5,
   "metadata": {},
   "outputs": [
    {
     "name": "stdout",
     "output_type": "stream",
     "text": [
      "Success!! Crawled 100 comments from Video [hassqXTvsXM]!\n"
     ]
    }
   ],
   "source": [
    "data1 = getData_Video(url1,0.035)"
   ]
  },
  {
   "cell_type": "code",
   "execution_count": 6,
   "metadata": {},
   "outputs": [
    {
     "name": "stdout",
     "output_type": "stream",
     "text": [
      "Success!! Crawled 100 comments from Video [RG-dXrbRNuw]!\n"
     ]
    }
   ],
   "source": [
    "data2 = getData_Video(url2,0.040)"
   ]
  },
  {
   "cell_type": "code",
   "execution_count": 8,
   "metadata": {},
   "outputs": [
    {
     "name": "stdout",
     "output_type": "stream",
     "text": [
      "Success!! Crawled 100 comments from Video [ipSpPzFqNH0]!\n"
     ]
    }
   ],
   "source": [
    "data3 = getData_Video(url3,0.025)"
   ]
  },
  {
   "cell_type": "markdown",
   "metadata": {},
   "source": [
    "#### 1.4 Label these comments by yourself in 7 classes"
   ]
  },
  {
   "cell_type": "code",
   "execution_count": 9,
   "metadata": {},
   "outputs": [],
   "source": [
    "DG = \"Disgust\"\n",
    "EJ = \"Enjoyment\"\n",
    "AG = \"Anger\"\n",
    "SP = \"Surprise\"\n",
    "SN = \"Sadness\"\n",
    "FE = \"Fear\"\n",
    "OT = \"Other\"\n",
    "\n",
    "emotion1 = [\n",
    "    OT,EJ,EJ,OT,OT,SN,SN,OT,EJ,EJ,\n",
    "    SP,EJ,EJ,OT,OT,OT,EJ,OT,EJ,EJ,\n",
    "    SP,EJ,EJ,OT,SP,OT,EJ,EJ,EJ,OT,\n",
    "    EJ,EJ,EJ,OT,OT,OT,SN,OT,EJ,DG,\n",
    "    EJ,EJ,EJ,EJ,EJ,EJ,OT,OT,EJ,EJ,\n",
    "    EJ,FE,EJ,OT,OT,OT,EJ,OT,EJ,OT,\n",
    "    OT,SP,SP,OT,OT,EJ,EJ,OT,EJ,EJ,\n",
    "    DG,SP,AG,OT,OT,EJ,OT,SN,EJ,EJ,\n",
    "    OT,EJ,EJ,EJ,OT,EJ,OT,FE,EJ,EJ,\n",
    "    EJ,OT,OT,SP,OT,OT,DG,OT,EJ,OT\n",
    "]\n",
    "emotion2 = [\n",
    "    OT,EJ,SN,EJ,SP,OT,OT,FE,OT,EJ,\n",
    "    SP,EJ,EJ,AG,OT,OT,SN,EJ,OT,OT,\n",
    "    OT,EJ,SN,EJ,EJ,DG,OT,OT,EJ,EJ,\n",
    "    EJ,EJ,EJ,SN,OT,OT,EJ,EJ,EJ,OT,\n",
    "    SN,OT,EJ,EJ,EJ,EJ,OT,EJ,OT,OT,\n",
    "    OT,OT,EJ,EJ,OT,OT,EJ,OT,OT,OT,\n",
    "    OT,EJ,EJ,EJ,EJ,EJ,OT,OT,EJ,EJ,\n",
    "    EJ,OT,OT,OT,OT,SN,OT,EJ,EJ,EJ,\n",
    "    OT,OT,EJ,OT,OT,EJ,EJ,SP,FE,OT,\n",
    "    OT,OT,EJ,OT,OT,EJ,OT,OT,OT,EJ\n",
    "]\n",
    "emotion3 = [\n",
    "    OT,OT,EJ,OT,OT,EJ,OT,EJ,FE,FE,\n",
    "    EJ,EJ,SP,SP,SN,OT,EJ,OT,OT,EJ,\n",
    "    EJ,FE,SN,EJ,OT,OT,EJ,EJ,FE,EJ,\n",
    "    SN,EJ,EJ,OT,EJ,FE,SN,OT,EJ,OT,\n",
    "    SN,EJ,EJ,SN,EJ,EJ,SN,OT,EJ,EJ,\n",
    "    OT,FE,SN,AG,OT,OT,EJ,OT,EJ,OT,\n",
    "    OT,SP,SP,OT,SN,EJ,EJ,SN,OT,OT,\n",
    "    SP,SP,EJ,OT,OT,EJ,OT,OT,DG,SN,\n",
    "    OT,AG,EJ,EJ,OT,SN,SP,FE,SN,EJ,\n",
    "    EJ,EJ,EJ,OT,OT,SP,FE,SP,EJ,FE\n",
    "]"
   ]
  },
  {
   "cell_type": "markdown",
   "metadata": {},
   "source": [
    "#### 1.5 Write data to CSV"
   ]
  },
  {
   "cell_type": "code",
   "execution_count": 10,
   "metadata": {},
   "outputs": [
    {
     "data": {
      "text/html": [
       "<div>\n",
       "<style scoped>\n",
       "    .dataframe tbody tr th:only-of-type {\n",
       "        vertical-align: middle;\n",
       "    }\n",
       "\n",
       "    .dataframe tbody tr th {\n",
       "        vertical-align: top;\n",
       "    }\n",
       "\n",
       "    .dataframe thead th {\n",
       "        text-align: right;\n",
       "    }\n",
       "</style>\n",
       "<table border=\"1\" class=\"dataframe\">\n",
       "  <thead>\n",
       "    <tr style=\"text-align: right;\">\n",
       "      <th></th>\n",
       "      <th>Emotion</th>\n",
       "      <th>Sentence</th>\n",
       "    </tr>\n",
       "  </thead>\n",
       "  <tbody>\n",
       "    <tr>\n",
       "      <th>0</th>\n",
       "      <td>Other</td>\n",
       "      <td>thích nhất cái khoản anh Khoa đi đâu cũng giới...</td>\n",
       "    </tr>\n",
       "    <tr>\n",
       "      <th>1</th>\n",
       "      <td>Enjoyment</td>\n",
       "      <td>Hay quá Khoa ơi nhiều người như Em sẽ làm ngườ...</td>\n",
       "    </tr>\n",
       "    <tr>\n",
       "      <th>2</th>\n",
       "      <td>Enjoyment</td>\n",
       "      <td>Khuôn mặt thân thiện hiền lành vui vẽ. ..làm đ...</td>\n",
       "    </tr>\n",
       "    <tr>\n",
       "      <th>3</th>\n",
       "      <td>Other</td>\n",
       "      <td>Chào Khoa, mỗi clip Khoa đăng lên Cô rất vui k...</td>\n",
       "    </tr>\n",
       "    <tr>\n",
       "      <th>4</th>\n",
       "      <td>Other</td>\n",
       "      <td>\"...đồ ăn Việt Nam vẫn là ngon nhất...\" ủng hộ...</td>\n",
       "    </tr>\n",
       "  </tbody>\n",
       "</table>\n",
       "</div>"
      ],
      "text/plain": [
       "     Emotion                                           Sentence\n",
       "0      Other  thích nhất cái khoản anh Khoa đi đâu cũng giới...\n",
       "1  Enjoyment  Hay quá Khoa ơi nhiều người như Em sẽ làm ngườ...\n",
       "2  Enjoyment  Khuôn mặt thân thiện hiền lành vui vẽ. ..làm đ...\n",
       "3      Other  Chào Khoa, mỗi clip Khoa đăng lên Cô rất vui k...\n",
       "4      Other  \"...đồ ăn Việt Nam vẫn là ngon nhất...\" ủng hộ..."
      ]
     },
     "execution_count": 10,
     "metadata": {},
     "output_type": "execute_result"
    }
   ],
   "source": [
    "dataList1 = {\"Emotion\": emotion1, \"Sentence\": data1}\n",
    "\n",
    "df1 = pd.DataFrame(dataList1)\n",
    "df1.to_csv(storageDir + \"dataList1.csv\", encoding = \"utf-8-sig\")\n",
    "df1.head()"
   ]
  },
  {
   "cell_type": "code",
   "execution_count": 11,
   "metadata": {},
   "outputs": [
    {
     "data": {
      "text/html": [
       "<div>\n",
       "<style scoped>\n",
       "    .dataframe tbody tr th:only-of-type {\n",
       "        vertical-align: middle;\n",
       "    }\n",
       "\n",
       "    .dataframe tbody tr th {\n",
       "        vertical-align: top;\n",
       "    }\n",
       "\n",
       "    .dataframe thead th {\n",
       "        text-align: right;\n",
       "    }\n",
       "</style>\n",
       "<table border=\"1\" class=\"dataframe\">\n",
       "  <thead>\n",
       "    <tr style=\"text-align: right;\">\n",
       "      <th></th>\n",
       "      <th>Emotion</th>\n",
       "      <th>Sentence</th>\n",
       "    </tr>\n",
       "  </thead>\n",
       "  <tbody>\n",
       "    <tr>\n",
       "      <th>0</th>\n",
       "      <td>Other</td>\n",
       "      <td>T mắc cười khúc đầu bếp chào xong cái ông Khoa...</td>\n",
       "    </tr>\n",
       "    <tr>\n",
       "      <th>1</th>\n",
       "      <td>Enjoyment</td>\n",
       "      <td>Review về Dubai đi anh Khoa. Ai đồng ý xin 1 l...</td>\n",
       "    </tr>\n",
       "    <tr>\n",
       "      <th>2</th>\n",
       "      <td>Sadness</td>\n",
       "      <td>ăn không biết sao mà nhìn họ làm thấy ngon quá...</td>\n",
       "    </tr>\n",
       "    <tr>\n",
       "      <th>3</th>\n",
       "      <td>Enjoyment</td>\n",
       "      <td>Ăn ở VN cũng rất ngon, giúp xứ sở, dân mình c...</td>\n",
       "    </tr>\n",
       "    <tr>\n",
       "      <th>4</th>\n",
       "      <td>Surprise</td>\n",
       "      <td>Coi vd mà không ai khen anh đầu bếp vậy ta. Mì...</td>\n",
       "    </tr>\n",
       "  </tbody>\n",
       "</table>\n",
       "</div>"
      ],
      "text/plain": [
       "     Emotion                                           Sentence\n",
       "0      Other  T mắc cười khúc đầu bếp chào xong cái ông Khoa...\n",
       "1  Enjoyment  Review về Dubai đi anh Khoa. Ai đồng ý xin 1 l...\n",
       "2    Sadness  ăn không biết sao mà nhìn họ làm thấy ngon quá...\n",
       "3  Enjoyment  Ăn ở VN cũng rất ngon, giúp xứ sở, dân mình c...\n",
       "4   Surprise  Coi vd mà không ai khen anh đầu bếp vậy ta. Mì..."
      ]
     },
     "execution_count": 11,
     "metadata": {},
     "output_type": "execute_result"
    }
   ],
   "source": [
    "dataList2 = {\"Emotion\": emotion2, \"Sentence\": data2}\n",
    "\n",
    "df2 = pd.DataFrame(dataList2)\n",
    "df2.to_csv(storageDir + \"dataList2.csv\", encoding = \"utf-8-sig\")\n",
    "df2.head()"
   ]
  },
  {
   "cell_type": "code",
   "execution_count": 12,
   "metadata": {},
   "outputs": [
    {
     "data": {
      "text/html": [
       "<div>\n",
       "<style scoped>\n",
       "    .dataframe tbody tr th:only-of-type {\n",
       "        vertical-align: middle;\n",
       "    }\n",
       "\n",
       "    .dataframe tbody tr th {\n",
       "        vertical-align: top;\n",
       "    }\n",
       "\n",
       "    .dataframe thead th {\n",
       "        text-align: right;\n",
       "    }\n",
       "</style>\n",
       "<table border=\"1\" class=\"dataframe\">\n",
       "  <thead>\n",
       "    <tr style=\"text-align: right;\">\n",
       "      <th></th>\n",
       "      <th>Emotion</th>\n",
       "      <th>Sentence</th>\n",
       "    </tr>\n",
       "  </thead>\n",
       "  <tbody>\n",
       "    <tr>\n",
       "      <th>0</th>\n",
       "      <td>Other</td>\n",
       "      <td>Xem những hình ảnh này, rồi cả những gì họ hứn...</td>\n",
       "    </tr>\n",
       "    <tr>\n",
       "      <th>1</th>\n",
       "      <td>Other</td>\n",
       "      <td>ở ấn độ có người nhiễm cúm corona rồi đó, ko t...</td>\n",
       "    </tr>\n",
       "    <tr>\n",
       "      <th>2</th>\n",
       "      <td>Enjoyment</td>\n",
       "      <td>Khoa có hai cô bạn thật dễ thương, cô nào cũng...</td>\n",
       "    </tr>\n",
       "    <tr>\n",
       "      <th>3</th>\n",
       "      <td>Other</td>\n",
       "      <td>Người ta đi review du lịch đi những nơi cao sa...</td>\n",
       "    </tr>\n",
       "    <tr>\n",
       "      <th>4</th>\n",
       "      <td>Other</td>\n",
       "      <td>Cám ơn Khoa và Cameraman đã không ngại khổ mà ...</td>\n",
       "    </tr>\n",
       "  </tbody>\n",
       "</table>\n",
       "</div>"
      ],
      "text/plain": [
       "     Emotion                                           Sentence\n",
       "0      Other  Xem những hình ảnh này, rồi cả những gì họ hứn...\n",
       "1      Other  ở ấn độ có người nhiễm cúm corona rồi đó, ko t...\n",
       "2  Enjoyment  Khoa có hai cô bạn thật dễ thương, cô nào cũng...\n",
       "3      Other  Người ta đi review du lịch đi những nơi cao sa...\n",
       "4      Other  Cám ơn Khoa và Cameraman đã không ngại khổ mà ..."
      ]
     },
     "execution_count": 12,
     "metadata": {},
     "output_type": "execute_result"
    }
   ],
   "source": [
    "dataList3 = {\"Emotion\": emotion3, \"Sentence\": data3}\n",
    "\n",
    "df3 = pd.DataFrame(dataList3)\n",
    "df3.to_csv(storageDir + \"dataList3.csv\", encoding = \"utf-8-sig\")\n",
    "df3.head()"
   ]
  },
  {
   "cell_type": "markdown",
   "metadata": {},
   "source": [
    "#### 1.6 Read data from CSV"
   ]
  },
  {
   "cell_type": "code",
   "execution_count": 13,
   "metadata": {},
   "outputs": [],
   "source": [
    "dataList1 = pd.read_csv(storageDir + \"dataList1.csv\", encoding = \"utf8\")\n",
    "dataList2 = pd.read_csv(storageDir + \"dataList2.csv\", encoding = \"utf8\")\n",
    "dataList3 = pd.read_csv(storageDir + \"dataList3.csv\", encoding = \"utf8\")"
   ]
  },
  {
   "cell_type": "markdown",
   "metadata": {},
   "source": [
    "#### 1.7 Remove redundant attributes"
   ]
  },
  {
   "cell_type": "code",
   "execution_count": 14,
   "metadata": {},
   "outputs": [
    {
     "data": {
      "text/plain": [
       "0      0\n",
       "1      1\n",
       "2      2\n",
       "3      3\n",
       "4      4\n",
       "      ..\n",
       "95    95\n",
       "96    96\n",
       "97    97\n",
       "98    98\n",
       "99    99\n",
       "Name: Unnamed: 0, Length: 100, dtype: int64"
      ]
     },
     "execution_count": 14,
     "metadata": {},
     "output_type": "execute_result"
    }
   ],
   "source": [
    "dataList1.pop(\"Unnamed: 0\")\n",
    "dataList2.pop(\"Unnamed: 0\")\n",
    "dataList3.pop(\"Unnamed: 0\")"
   ]
  },
  {
   "cell_type": "markdown",
   "metadata": {},
   "source": [
    "#### 1.8 Add column length of sentence"
   ]
  },
  {
   "cell_type": "code",
   "execution_count": 15,
   "metadata": {},
   "outputs": [
    {
     "data": {
      "text/html": [
       "<div>\n",
       "<style scoped>\n",
       "    .dataframe tbody tr th:only-of-type {\n",
       "        vertical-align: middle;\n",
       "    }\n",
       "\n",
       "    .dataframe tbody tr th {\n",
       "        vertical-align: top;\n",
       "    }\n",
       "\n",
       "    .dataframe thead th {\n",
       "        text-align: right;\n",
       "    }\n",
       "</style>\n",
       "<table border=\"1\" class=\"dataframe\">\n",
       "  <thead>\n",
       "    <tr style=\"text-align: right;\">\n",
       "      <th></th>\n",
       "      <th>Emotion</th>\n",
       "      <th>Sentence</th>\n",
       "      <th>Length</th>\n",
       "    </tr>\n",
       "  </thead>\n",
       "  <tbody>\n",
       "    <tr>\n",
       "      <th>0</th>\n",
       "      <td>Other</td>\n",
       "      <td>thích nhất cái khoản anh Khoa đi đâu cũng giới...</td>\n",
       "      <td>163</td>\n",
       "    </tr>\n",
       "    <tr>\n",
       "      <th>1</th>\n",
       "      <td>Enjoyment</td>\n",
       "      <td>Hay quá Khoa ơi nhiều người như Em sẽ làm ngườ...</td>\n",
       "      <td>76</td>\n",
       "    </tr>\n",
       "    <tr>\n",
       "      <th>2</th>\n",
       "      <td>Enjoyment</td>\n",
       "      <td>Khuôn mặt thân thiện hiền lành vui vẽ. ..làm đ...</td>\n",
       "      <td>197</td>\n",
       "    </tr>\n",
       "    <tr>\n",
       "      <th>3</th>\n",
       "      <td>Other</td>\n",
       "      <td>Chào Khoa, mỗi clip Khoa đăng lên Cô rất vui k...</td>\n",
       "      <td>122</td>\n",
       "    </tr>\n",
       "    <tr>\n",
       "      <th>4</th>\n",
       "      <td>Other</td>\n",
       "      <td>\"...đồ ăn Việt Nam vẫn là ngon nhất...\" ủng hộ...</td>\n",
       "      <td>71</td>\n",
       "    </tr>\n",
       "  </tbody>\n",
       "</table>\n",
       "</div>"
      ],
      "text/plain": [
       "     Emotion                                           Sentence  Length\n",
       "0      Other  thích nhất cái khoản anh Khoa đi đâu cũng giới...     163\n",
       "1  Enjoyment  Hay quá Khoa ơi nhiều người như Em sẽ làm ngườ...      76\n",
       "2  Enjoyment  Khuôn mặt thân thiện hiền lành vui vẽ. ..làm đ...     197\n",
       "3      Other  Chào Khoa, mỗi clip Khoa đăng lên Cô rất vui k...     122\n",
       "4      Other  \"...đồ ăn Việt Nam vẫn là ngon nhất...\" ủng hộ...      71"
      ]
     },
     "execution_count": 15,
     "metadata": {},
     "output_type": "execute_result"
    }
   ],
   "source": [
    "lengthDataList1 = []\n",
    "lengthDataList2 = []\n",
    "lengthDataList3 = []\n",
    "for i in range(100):\n",
    "    lengthDataList1.append(len(dataList1.Sentence[i]))\n",
    "    lengthDataList2.append(len(dataList2.Sentence[i]))\n",
    "    lengthDataList3.append(len(dataList3.Sentence[i]))\n",
    "\n",
    "dataList1[\"Length\"] = lengthDataList1\n",
    "dataList2[\"Length\"] = lengthDataList2\n",
    "dataList3[\"Length\"] = lengthDataList3\n",
    "\n",
    "dataList1.head()"
   ]
  },
  {
   "cell_type": "code",
   "execution_count": 16,
   "metadata": {},
   "outputs": [
    {
     "data": {
      "text/html": [
       "<div>\n",
       "<style scoped>\n",
       "    .dataframe tbody tr th:only-of-type {\n",
       "        vertical-align: middle;\n",
       "    }\n",
       "\n",
       "    .dataframe tbody tr th {\n",
       "        vertical-align: top;\n",
       "    }\n",
       "\n",
       "    .dataframe thead th {\n",
       "        text-align: right;\n",
       "    }\n",
       "</style>\n",
       "<table border=\"1\" class=\"dataframe\">\n",
       "  <thead>\n",
       "    <tr style=\"text-align: right;\">\n",
       "      <th></th>\n",
       "      <th>Emotion</th>\n",
       "      <th>Sentence</th>\n",
       "      <th>Length</th>\n",
       "    </tr>\n",
       "  </thead>\n",
       "  <tbody>\n",
       "    <tr>\n",
       "      <th>0</th>\n",
       "      <td>Other</td>\n",
       "      <td>T mắc cười khúc đầu bếp chào xong cái ông Khoa...</td>\n",
       "      <td>99</td>\n",
       "    </tr>\n",
       "    <tr>\n",
       "      <th>1</th>\n",
       "      <td>Enjoyment</td>\n",
       "      <td>Review về Dubai đi anh Khoa. Ai đồng ý xin 1 l...</td>\n",
       "      <td>71</td>\n",
       "    </tr>\n",
       "    <tr>\n",
       "      <th>2</th>\n",
       "      <td>Sadness</td>\n",
       "      <td>ăn không biết sao mà nhìn họ làm thấy ngon quá...</td>\n",
       "      <td>85</td>\n",
       "    </tr>\n",
       "    <tr>\n",
       "      <th>3</th>\n",
       "      <td>Enjoyment</td>\n",
       "      <td>Ăn ở VN cũng rất ngon, giúp xứ sở, dân mình c...</td>\n",
       "      <td>57</td>\n",
       "    </tr>\n",
       "    <tr>\n",
       "      <th>4</th>\n",
       "      <td>Surprise</td>\n",
       "      <td>Coi vd mà không ai khen anh đầu bếp vậy ta. Mì...</td>\n",
       "      <td>132</td>\n",
       "    </tr>\n",
       "  </tbody>\n",
       "</table>\n",
       "</div>"
      ],
      "text/plain": [
       "     Emotion                                           Sentence  Length\n",
       "0      Other  T mắc cười khúc đầu bếp chào xong cái ông Khoa...      99\n",
       "1  Enjoyment  Review về Dubai đi anh Khoa. Ai đồng ý xin 1 l...      71\n",
       "2    Sadness  ăn không biết sao mà nhìn họ làm thấy ngon quá...      85\n",
       "3  Enjoyment  Ăn ở VN cũng rất ngon, giúp xứ sở, dân mình c...      57\n",
       "4   Surprise  Coi vd mà không ai khen anh đầu bếp vậy ta. Mì...     132"
      ]
     },
     "execution_count": 16,
     "metadata": {},
     "output_type": "execute_result"
    }
   ],
   "source": [
    "dataList2.head()"
   ]
  },
  {
   "cell_type": "code",
   "execution_count": 17,
   "metadata": {},
   "outputs": [
    {
     "data": {
      "text/html": [
       "<div>\n",
       "<style scoped>\n",
       "    .dataframe tbody tr th:only-of-type {\n",
       "        vertical-align: middle;\n",
       "    }\n",
       "\n",
       "    .dataframe tbody tr th {\n",
       "        vertical-align: top;\n",
       "    }\n",
       "\n",
       "    .dataframe thead th {\n",
       "        text-align: right;\n",
       "    }\n",
       "</style>\n",
       "<table border=\"1\" class=\"dataframe\">\n",
       "  <thead>\n",
       "    <tr style=\"text-align: right;\">\n",
       "      <th></th>\n",
       "      <th>Emotion</th>\n",
       "      <th>Sentence</th>\n",
       "      <th>Length</th>\n",
       "    </tr>\n",
       "  </thead>\n",
       "  <tbody>\n",
       "    <tr>\n",
       "      <th>0</th>\n",
       "      <td>Other</td>\n",
       "      <td>Xem những hình ảnh này, rồi cả những gì họ hứn...</td>\n",
       "      <td>218</td>\n",
       "    </tr>\n",
       "    <tr>\n",
       "      <th>1</th>\n",
       "      <td>Other</td>\n",
       "      <td>ở ấn độ có người nhiễm cúm corona rồi đó, ko t...</td>\n",
       "      <td>150</td>\n",
       "    </tr>\n",
       "    <tr>\n",
       "      <th>2</th>\n",
       "      <td>Enjoyment</td>\n",
       "      <td>Khoa có hai cô bạn thật dễ thương, cô nào cũng...</td>\n",
       "      <td>246</td>\n",
       "    </tr>\n",
       "    <tr>\n",
       "      <th>3</th>\n",
       "      <td>Other</td>\n",
       "      <td>Người ta đi review du lịch đi những nơi cao sa...</td>\n",
       "      <td>421</td>\n",
       "    </tr>\n",
       "    <tr>\n",
       "      <th>4</th>\n",
       "      <td>Other</td>\n",
       "      <td>Cám ơn Khoa và Cameraman đã không ngại khổ mà ...</td>\n",
       "      <td>271</td>\n",
       "    </tr>\n",
       "  </tbody>\n",
       "</table>\n",
       "</div>"
      ],
      "text/plain": [
       "     Emotion                                           Sentence  Length\n",
       "0      Other  Xem những hình ảnh này, rồi cả những gì họ hứn...     218\n",
       "1      Other  ở ấn độ có người nhiễm cúm corona rồi đó, ko t...     150\n",
       "2  Enjoyment  Khoa có hai cô bạn thật dễ thương, cô nào cũng...     246\n",
       "3      Other  Người ta đi review du lịch đi những nơi cao sa...     421\n",
       "4      Other  Cám ơn Khoa và Cameraman đã không ngại khổ mà ...     271"
      ]
     },
     "execution_count": 17,
     "metadata": {},
     "output_type": "execute_result"
    }
   ],
   "source": [
    "dataList3.head()"
   ]
  },
  {
   "cell_type": "markdown",
   "metadata": {},
   "source": [
    "#### 1.9 Show Histogram Graph & Pie Chart"
   ]
  },
  {
   "cell_type": "code",
   "execution_count": 18,
   "metadata": {},
   "outputs": [
    {
     "data": {
      "image/png": "[encoded data removed]",
      "text/plain": [
       "<Figure size 600x300 with 1 Axes>"
      ]
     },
     "metadata": {},
     "output_type": "display_data"
    },
    {
     "data": {
      "image/png": "[encoded data removed]",
      "text/plain": [
       "<Figure size 640x480 with 1 Axes>"
      ]
     },
     "metadata": {},
     "output_type": "display_data"
    },
    {
     "data": {
      "image/png": "[encoded data removed]",
      "text/plain": [
       "<Figure size 600x300 with 1 Axes>"
      ]
     },
     "metadata": {},
     "output_type": "display_data"
    },
    {
     "data": {
      "image/png": "[encoded data removed]",
      "text/plain": [
       "<Figure size 640x480 with 1 Axes>"
      ]
     },
     "metadata": {},
     "output_type": "display_data"
    },
    {
     "data": {
      "image/png": "[encoded data removed]",
      "text/plain": [
       "<Figure size 600x300 with 1 Axes>"
      ]
     },
     "metadata": {},
     "output_type": "display_data"
    },
    {
     "data": {
      "image/png": "[encoded data removed]",
      "text/plain": [
       "<Figure size 640x480 with 1 Axes>"
      ]
     },
     "metadata": {},
     "output_type": "display_data"
    }
   ],
   "source": [
    "def Show_HistGraph_And_PieChart(dataList):\n",
    "    E_DG = dataList.loc[dataList.Emotion == DG, 'Length']\n",
    "    E_EJ = dataList.loc[dataList.Emotion == EJ, 'Length']\n",
    "    E_AG = dataList.loc[dataList.Emotion == AG, 'Length']\n",
    "    E_SP = dataList.loc[dataList.Emotion == SP, 'Length']\n",
    "    E_SN = dataList.loc[dataList.Emotion == SN, 'Length']\n",
    "    E_FE = dataList.loc[dataList.Emotion == FE, 'Length']\n",
    "    E_OT = dataList.loc[dataList.Emotion == OT, 'Length']\n",
    "    \n",
    "    # Histogram Graph\n",
    "    config = dict(alpha=0.4, bins=30, edgecolor = \"black\")\n",
    "    plt.figure(figsize=(6,3))\n",
    "    plt.hist(E_DG, **config, color = 'b', label = 'Disgust')\n",
    "    plt.hist(E_EJ, **config, color = 'r', label = 'Enjoyment')\n",
    "    plt.hist(E_AG, **config, color = 'g', label = 'Anger')\n",
    "    plt.hist(E_SP, **config, color = 'c', label = 'Surprise')\n",
    "    plt.hist(E_SN, **config, color = 'm', label = 'Sadness')\n",
    "    plt.hist(E_FE, **config, color = 'y', label = 'Fear')\n",
    "    plt.hist(E_OT, **config, color = 'k', label = 'Other')\n",
    "    plt.ylabel('Frequency')\n",
    "    plt.xlabel('Sentence Length')\n",
    "    plt.legend();\n",
    "    \n",
    "    # Pie Chart\n",
    "    Pie = [len(E_DG),len(E_EJ),len(E_AG),len(E_SP),len(E_SN),len(E_FE),len(E_OT)]\n",
    "    f, Ax = plt.subplots()\n",
    "    Ax.pie(Pie, labels=['DG','EJ','AG','SP','SN','FE','OT'], autopct='%1.0f%%', startangle=90)\n",
    "    Ax.axis('equal')\n",
    "\n",
    "Show_HistGraph_And_PieChart(dataList1)\n",
    "Show_HistGraph_And_PieChart(dataList2)\n",
    "Show_HistGraph_And_PieChart(dataList3)"
   ]
  },
  {
   "cell_type": "markdown",
   "metadata": {},
   "source": [
    "### TASK 2: EMOTION RECOGNITION FOR VIETNAMESE SOCIAL MEDIA TEXT"
   ]
  },
  {
   "cell_type": "markdown",
   "metadata": {},
   "source": [
    "#### 2.1 Read data from UIT-VSMEC"
   ]
  },
  {
   "cell_type": "code",
   "execution_count": 19,
   "metadata": {},
   "outputs": [],
   "source": [
    "dataTrainUIT = pd.read_excel(\"UIT-VSMEC/train_nor_811.xlsx\", engine='openpyxl')\n",
    "dataValidUIT = pd.read_excel(\"UIT-VSMEC/valid_nor_811.xlsx\", engine='openpyxl')\n",
    "data_TestUIT = pd.read_excel(\"UIT-VSMEC/test_nor_811.xlsx\", engine='openpyxl')\n",
    "\n",
    "# Model\n",
    "model = DecisionTreeClassifier()\n",
    "\n",
    "# Y\n",
    "trainY = dataTrainUIT.Emotion\n",
    "validY = dataValidUIT.Emotion\n",
    "testY  = data_TestUIT.Emotion"
   ]
  },
  {
   "cell_type": "markdown",
   "metadata": {},
   "source": [
    "#### 2.2 Text preprocess (stopword, word segmentation, learn vocabulary and idf)"
   ]
  },
  {
   "cell_type": "code",
   "execution_count": 20,
   "metadata": {},
   "outputs": [],
   "source": [
    "def text_process(datasets):\n",
    "    # Stopwords\n",
    "    StopWords = [\n",
    "        'chs','cerrrr','aaaaa','aaaaaaa','aamir','abcxyz','ac','18','200','500','dek','thg','đg','đs','đm','đuma',\n",
    "        'vl','vcl','kkk','dcm','cu','ừm','đĩ','đụ','địt','xl','lol','01','10','100', '11','12','13','14','15','150',\n",
    "        '17','1700''1967','20','21','22','225','23','24','25','26','28','2_','2_3','30','300','3000','320','333',\n",
    "        '33333','40','400','42','45','48', '50','5000','580','60','63','66','75','78','80','800','81','850','90','900',\n",
    "        '99','99999','_200','_5','ah','bn','c3','chg','cp','dòg','hlin','lòn','lôz','tđ','đkm','đkmm','đmaaaa','đmm',\n",
    "        'đmmmmm','đỹ','vcb','vclll','đụ_mẹ','trươ','trưen','amir','ga','1700','1967','bg','chaiii','clm','cmm','cmnl','cã',\n",
    "        'hloz','imdb','kau','kbh','loz','lozzz','lozzzz','matlon','muô','nh','nhma','p30','16','250','56','adm','ngươ'\n",
    "    ]\n",
    "    Tfidf = TfidfVectorizer(stop_words = StopWords)\n",
    "    \n",
    "    # Word Segmentation\n",
    "    WordSeg = []\n",
    "    for i in range(datasets.shape[0]):\n",
    "        sentence_strip = datasets.Sentence[i].strip() # Remove spaces at begin & end\n",
    "        WordSeg.append(word_tokenize(sentence_strip, format='text')) # format text: add \"_\" where text is phrases.\n",
    "    datasets.Sentence = WordSeg # Update new sentences\n",
    "    \n",
    "    # Learn vocabulary and idf.\n",
    "    X = Tfidf.fit_transform(datasets.Sentence)\n",
    "    # Display after processing\n",
    "    print(Tfidf.get_feature_names_out()); print(\"\\n\\n\")\n",
    "    # return document-term matrix after processing\n",
    "    return X\n",
    "\n"
   ]
  },
  {
   "cell_type": "markdown",
   "metadata": {},
   "source": [
    "#### 2.3 Using Train&Valid sets of UIT-VSMEC for training Emotion Recognition model"
   ]
  },
  {
   "cell_type": "code",
   "execution_count": 21,
   "metadata": {},
   "outputs": [
    {
     "name": "stdout",
     "output_type": "stream",
     "text": [
      "['2000' '2012' '2015' ... 'ức_chế' 'ứng' 'ứng_dụng']\n",
      "\n",
      "\n",
      "\n"
     ]
    }
   ],
   "source": [
    "trainY = dataTrainUIT[\"Emotion\"]\n",
    "validY = dataValidUIT[\"Emotion\"]\n",
    "\n",
    "trainValidX = pd.concat([dataTrainUIT, dataValidUIT]).reset_index(drop=True)\n",
    "trainValidX = text_process(trainValidX)\n",
    "trainValidY = pd.concat([trainY, validY]).reset_index(drop=True)\n",
    "\n",
    "trainX, testX, trainY, testY = train_test_split(trainValidX, trainValidY, test_size=0.33, random_state=42)\n",
    "model = model.fit(trainX, trainY)\n",
    "predY = model.predict(testX)\n"
   ]
  },
  {
   "cell_type": "markdown",
   "metadata": {},
   "source": [
    "#### 2.3 Performance metrics (Accuracy, F1-score…) for the test sets in UIT-VSMEC"
   ]
  },
  {
   "cell_type": "code",
   "execution_count": 22,
   "metadata": {},
   "outputs": [
    {
     "name": "stdout",
     "output_type": "stream",
     "text": [
      "Average of Accuracy: 0.35374149659863946\n",
      "Average of F1_Score: 0.3522830576160995\n",
      "Average of Precision: 0.35332232471954433\n"
     ]
    }
   ],
   "source": [
    "Accuracy  = []\n",
    "Precision = []\n",
    "F1_Score  = []\n",
    "\n",
    "Accuracy.append(accuracy_score(testY, predY))\n",
    "F1_Score.append(f1_score(testY, predY, average='weighted'))  # Could change to None,'weighted','micro','macro'\n",
    "Precision.append(precision_score(testY, predY, average='weighted'))\n",
    "\n",
    "averageAccuracy = sum(Accuracy)/len(Accuracy)\n",
    "print(\"Average of Accuracy:\", averageAccuracy)\n",
    "averageF1_Score = sum(F1_Score)/len(F1_Score)\n",
    "print(\"Average of F1_Score:\", averageF1_Score)\n",
    "averagePrecision = sum(Precision)/len(Precision)\n",
    "print(\"Average of Precision:\", averagePrecision)"
   ]
  },
  {
   "cell_type": "markdown",
   "metadata": {},
   "source": [
    "### TASK 3: APPLYING THE TRAINED MODEL IN TASK 2 TO THREE DATASETS IN TASK 1"
   ]
  },
  {
   "cell_type": "markdown",
   "metadata": {},
   "source": [
    "#### 3.1 Applying the trained model in Task 2 to three datasets in Task 1"
   ]
  },
  {
   "cell_type": "code",
   "execution_count": 23,
   "metadata": {},
   "outputs": [
    {
     "name": "stdout",
     "output_type": "stream",
     "text": [
      "['00' '09' '19' '27' '29' '32' '33' '43' '6_tr' '_good' '_t' 'a_em'\n",
      " 'a_khoa' 'ae' 'ah_khoa' 'ahhah' 'ai' 'ai_cập' 'anh' 'anh_chị' 'anh_cả'\n",
      " 'anh_khoa' 'anna' 'aroma' 'bay' 'bean_nhỉ' 'biết' 'blogger' 'bo'\n",
      " 'buồn_cười' 'bà' 'bán' 'bánh_mì' 'bát' 'bên' 'bình_dân' 'bình_luận' 'bò'\n",
      " 'bóng' 'bạn' 'bả_la' 'bảo_tàng' 'bấm' 'bất_cứ' 'bất_kì' 'bật' 'bắt_đầu'\n",
      " 'bể' 'bể_bụng' 'bị' 'bỏ_lỡ' 'bồi' 'bồi_bàn' 'bờ' 'bởi' 'bởi_vậy' 'bữa'\n",
      " 'cai_chất' 'camera' 'cameraman' 'cameramen' 'cao' 'cao_cấp' 'caramen'\n",
      " 'chai' 'chiến_tranh' 'cho' 'cho_phép' 'chua' 'chung_clip' 'chuyến'\n",
      " 'chuẩn' 'chuỗi' 'chào_khoa' 'chém' 'chén' 'chê' 'chú' 'chúc' 'chúc_khoa'\n",
      " 'chăm_sóc' 'chơi' 'chưa' 'chạy' 'chảnh' 'chắc' 'chết' 'chỉ' 'chị' 'chịu'\n",
      " 'chổ' 'chủ' 'chứ' 'chừng' 'clip' 'clip_khoa' 'clips' 'cmt' 'coi' 'con'\n",
      " 'con_người' 'cua' 'cute' 'cuối' 'cuối_cùng' 'cuốn' 'cuộc_sống'\n",
      " 'càng_ngày_càng' 'cá' 'cá_cảnh' 'cá_kìa' 'các' 'cách' 'cái' 'cân_nhắc'\n",
      " 'câu' 'còn' 'có' 'có_lẽ' 'có_thể' 'cô' 'công_nhận' 'cùng' 'cũng' 'cơ_hội'\n",
      " 'cơ_mà' 'cơm' 'cương_dương_nha' 'cười' 'cười_cười' 'cường_lực' 'cảm_giác'\n",
      " 'cảm_thấy' 'cảm_ơn' 'cảnh' 'cập' 'của' 'cứ' 'dc' 'diễn_tả' 'do' 'du_lịch'\n",
      " 'du_yu' 'dubai' 'dubai_reveiw' 'duoc_giá' 'dài' 'dân_tộc' 'dù' 'dùng'\n",
      " 'dĩa' 'dẫn' 'dằn_túi' 'dễ' 'dễ_thương' 'dọn' 'dốt' 'dử' 'dữ' 'dữ_dằng'\n",
      " 'dựa' 'e_ngưỡng_mộ' 'e_tập' 'em' 'fan' 'ghé' 'ghê' 'ghẹ' 'gia_đình'\n",
      " 'giao_tiếp' 'giá_cả' 'giông' 'giúp' 'giọng' 'giống' 'giới_thiệu' 'giờ'\n",
      " 'giữ' 'giữa' 'gì' 'góc' 'gói' 'gặp' 'gọi' 'ha' 'haha' 'hahaa_bộ' 'hay'\n",
      " 'he' 'hello' 'hihi' 'hiếm' 'hiền_lành' 'hiểu' 'how_múc' 'hoặc' 'hs' 'hà'\n",
      " 'hài_vãi' 'hàn_quốc' 'hành_động' 'hèn_gì' 'hì' 'hình_ảnh' 'hóa' 'hóng'\n",
      " 'hóng_video' 'hót' 'hôm' 'hôm_nay' 'hơi' 'hơn' 'hơn_nữa' 'hương_vị'\n",
      " 'hướng' 'hả' 'hải_sản' 'hấp_dẫn' 'hầu_như' 'hẳn' 'hết' 'họ' 'họa' 'học'\n",
      " 'học_phí' 'hỏi' 'hợp_lí' 'job' 'kaka' 'kg' 'khi' 'khoa' 'khoa_cảm_thấy'\n",
      " 'khoa_học' 'khoa_p' 'khoa_pug' 'khoái' 'khoái_a' 'khoản' 'khuya'\n",
      " 'khuôn_mặt' 'khác' 'khách_hàng' 'khách_sạn' 'khó_khăn' 'không'\n",
      " 'khẳng_định' 'khỏe_nha' 'khỏi' 'kia' 'kiếm' 'kiểu' 'ko' 'ko_bik' 'kube'\n",
      " 'kéo' 'kênh' 'kêu' 'kìa' 'kết' 'kỉ_niệm' 'kịp' 'like' 'lip' 'liều' 'lm'\n",
      " 'loại' 'lun' 'luôn' 'là' 'làm' 'làm_ăn' 'lên' 'lính' 'lòng' 'lôt' 'lúc'\n",
      " 'lưu_giữ' 'lườm' 'lại' 'lấy' 'lần' 'lầy_lội' 'lắc' 'lắm' 'lớn' 'mai_mốt'\n",
      " 'mang' 'max' 'me' 'mi' 'mic_giắt' 'mn' 'mng' 'mong' 'mong_khoa' 'moto'\n",
      " 'mr' 'muối' 'muốn' 'mà' 'mà_còn' 'mãi' 'méo' 'mì' 'mình' 'món' 'mún' 'mũ'\n",
      " 'mạnh' 'mải' 'mải_miết' 'mất' 'mấy' 'mặc' 'mặt' 'mẹ' 'mẻ' 'mến' 'mọi'\n",
      " 'mỏ' 'mỗi' 'một' 'mới' 'mỹ' 'nay' 'nc' 'nem' 'ng' 'ngay' 'nghe'\n",
      " 'nghiện_video' 'nghĩ' 'ngon' 'ngoài' 'ngta' 'ngày' 'người' 'ngưỡng_mộ'\n",
      " 'ngại' 'ngọt' 'ngồi' 'ngủ' 'ngừng' 'nha' 'nhiều' 'nhà_hàng' 'nhà_k'\n",
      " 'nhân_viên' 'nhé' 'nhìn' 'nhìu' 'như' 'như_thế' 'như_vậy' 'nhưng'\n",
      " 'nhường_đường' 'nhất' 'nhầm_lẫn' 'nhật' 'nhật_bản' 'nhỏ' 'nhớ' 'nhờ'\n",
      " 'những' 'ni' 'niềm' 'nào' 'này' 'nâu' 'nãy_h' 'nè' 'nét' 'nên' 'nó' 'nói'\n",
      " 'nói_chuyện' 'nói_lên' 'nón' 'nóng' 'nú' 'năm_học' 'năng_lượng' 'nước'\n",
      " 'nước_ngoài' 'nể' 'nổi_tiếng' 'nội' 'nữa' 'oi' 'phan_cứng' 'phog' 'phát'\n",
      " 'phát_huy' 'phát_triển' 'phải' 'phụ_giúp' 'phục' 'phục_vụ' 'pug' 'qua'\n",
      " 'quay' 'quay_phim' 'quyết_định' 'quài_ức_chế' 'quá' 'quán' 'quãng' 'quý'\n",
      " 'quảng_bá' 'quốc_gia' 'ra' 'ra_mặt' 'real' 'review' 'riêng' 'rocket'\n",
      " 'ráng' 'rất' 'rề' 'rồi' 'salt_bea' 'sang' 'sao' 'sau' 'sau_này' 'series'\n",
      " 'soup' 'sr' 'sub' 'sup' 'sót_giây' 'súp' 'sẽ' 'số' 'sợi' 'sức' 'sức_khỏe'\n",
      " 'sử_dụng' 'sự' 'ta' 'tay' 'theo' 'theo_dõi' 'thiếu' 'thiện_chiến' 'thiệt'\n",
      " 'thiệt_lun' 'thu_nhập' 'thuốc' 'thuộc' 'thành_công' 'thành_đạt' 'thái_độ'\n",
      " 'tháng' 'thánh_rắc' 'thân_thiện' 'thèm' 'thêm' 'thì' 'thích' 'thôi'\n",
      " 'thông_báo' 'thông_dịch_viên' 'thăm' 'thương' 'thấy' 'thần_chưởng'\n",
      " 'thần_thái_cug' 'thật' 'thật_sự' 'thật_thà' 'thế' 'thế_giới' 'thịt'\n",
      " 'thời' 'thứ' 'thửởng_thức' 'thực_tế' 'tinh_thần' 'tiếng' 'tiếnh_anh'\n",
      " 'tiền' 'tiện_thể' 'top' 'tour' 'trang_trải' 'travel' 'trong' 'trung_quốc'\n",
      " 'trái' 'tráng_dương' 'trên' 'trưa' 'trước' 'trầm_trồ' 'trời' 'tui' 'tên'\n",
      " 'tên_tuổi' 'tình_trạng' 'tích_cực' 'tính' 'tô' 'tôi' 'tôm' 'tôm_cá'\n",
      " 'tôm_hùm' 'tư_tưởng' 'tươi' 'tươi_hông' 'tưởng_tượng' 'tất_cả' 'tầm'\n",
      " 'tập' 'tịt' 'tối' 'tốn_kém' 'tốt' 'tội' 'tới' 'từ' 'từng' 'tự_hào'\n",
      " 'tự_nhiên' 'tự_tin' 'tự_tôn' 'viagara' 'video' 'vietnam' 'view' 'vip'\n",
      " 'viện' 'việt' 'việt_nam' 'việt_ý' 'việtnam_gê' 'vk' 'vlog' 'vn' 'vui'\n",
      " 'vui_sao' 'vui_thế' 'vui_tính' 'và' 'vài' 'vào' 'vãi' 'vé_số' 'vì'\n",
      " 'vì_sao' 'vòng_quanh' 'văn_hóa' 'vẫn' 'vậy' 'vẽ' 'về' 'vốn' 'với' 'vụ'\n",
      " 'vừa' 'weu' 'what' 'xanh' 'xe' 'xem' 'xem_lại' 'xem_mặt' 'xin'\n",
      " 'xinh_xinh' 'xiên' 'xong' 'xung_quanh' 'xây_dựng' 'xông_khói' 'xúc_phạm'\n",
      " 'xỉu' 'youtube' 'youtuber' 'yu_du' 'yêu' 'zễ_mến' 'á_cái' 'áo' 'ông' 'ăn'\n",
      " 'ăn_trc' 'ăn_tôm' 'ăn_uống' 'đang' 'đau_bụng' 'đc' 'đem' 'đen' 'đi'\n",
      " 'điều' 'điều_kiện' 'đoạn' 'đoảng' 'đu_diu' 'đánh' 'đâu' 'đây' 'đã' 'đêm'\n",
      " 'đí' 'đó' 'đói' 'đóng' 'đóng_góp' 'đúng' 'đăng' 'đưa' 'đường' 'được'\n",
      " 'đại_diện' 'đại_gia' 'đại_gia_khoa' 'đại_sứ' 'đại_xứ' 'đất_nước' 'đấy'\n",
      " 'đầu_tư' 'đẹp' 'đẹp_vãi' 'đến' 'đều' 'để' 'đồ' 'đồ_ăn' 'đội' 'đở' 'đợi'\n",
      " 'đủ' 'ơi' 'ước_mơ' 'ấy' 'ẩm_thực' 'ồn' 'ổng' 'ớt' 'ủng_hộ']\n",
      "\n",
      "\n",
      "\n",
      "['04' '190' '2020' '311' '43' '_bò' '_mong' '_một' '_mỡ' '_người' '_ram'\n",
      " '_teu' '_ăn' 'a_khoa' 'a_review' 'a_ăn' 'a_đầu' 'ah_khoa' 'ai' 'ai_ý'\n",
      " 'an' 'anh' 'anh_chị' 'anh_em' 'aroma' 'bae_cận' 'bao_giờ' 'bay' 'becgie'\n",
      " 'beef' 'bia' 'bit' 'biết' 'biết_chừng' 'biểu_diễn' 'bk' 'bt' 'bà' 'bàn'\n",
      " 'bác' 'bán' 'bánh_mì' 'bát' 'bây_giờ' 'bã' 'bãi' 'bé' 'béo' 'bên'\n",
      " 'bí_quyết' 'bò' 'bò_kobe' 'bò_mỹ' 'bò_nhật' 'bù' 'bún_bò' 'bạn'\n",
      " 'bản_chất' 'bảo_đảm' 'bắt' 'bắt_buộc' 'bắt_hình' 'bắt_tay' 'bếp' 'bị'\n",
      " 'bịch' 'bọn' 'bố' 'bồi_bàn' 'bổ' 'bộ' 'bữa' 'ca' 'ca_hoi' 'cam' 'camera'\n",
      " 'camera_man' 'cameraman' 'canh_măng' 'cao_cấp' 'caramen' 'cau' 'chac'\n",
      " 'chanh' 'chi' 'chia_se' 'cho' 'cho_phép' 'chu_đáo' 'chung' 'chuyen'\n",
      " 'chuyên_nghiệp' 'chuẩn_nhật' 'chuồng' 'chào' 'chào_z' 'chân' 'chén'\n",
      " 'chín' 'chính' 'chóng' 'chú' 'chúc' 'chúng' 'chăm' 'chăm_cực' 'chơi'\n",
      " 'chưa' 'chương_trình' 'chạy' 'chảnh' 'chảy' 'chấm' 'chất' 'chật_hẹp'\n",
      " 'chắc' 'chắc_chắn' 'chẳng' 'chặn' 'chế_biến' 'chết' 'chỉ' 'chị' 'chịch_à'\n",
      " 'chịu' 'chỗ' 'chờ' 'chụy' 'chủ_tịch' 'chứ' 'chừng' 'chữ' 'cilp' 'clip'\n",
      " 'co' 'coi' 'com' 'con' 'con_cái' 'con_người' 'cong_phu' 'corona' 'cua'\n",
      " 'cube' 'cung_cách' 'cute' 'cuối' 'cuối_cùng' 'cuộc_sống' 'cuộn' 'càng'\n",
      " 'cào' 'cày' 'các' 'cách' 'cái' 'cám_ơn' 'câu' 'cây' 'còn' 'có' 'có_thể'\n",
      " 'công_thức' 'cũng' 'cơ_bản' 'cơ_bắp' 'cơ_thể' 'cơ_địa' 'cười' 'cạnh'\n",
      " 'cạo' 'cả' 'cải' 'cảm_thấy' 'cảnh' 'cất' 'cần' 'cậu' 'cắt' 'cỏ' 'cố_tình'\n",
      " 'cộng' 'của' 'cứ' 'cứng_khớp' 'cử_chỉ' 'cực_kì' 'da_bò' 'dai' 'dai_thịt'\n",
      " 'dau' 'dc' 'de' 'dep' 'di' 'diep' 'dinh' 'do' 'dong' 'du_lịch' 'dubai'\n",
      " 'dy' 'dài' 'dành' 'dát' 'dân' 'dòng' 'dù' 'dùng' 'dĩa' 'dơi' 'dường'\n",
      " 'dải' 'dẫn' 'dễ' 'dễ_dàng' 'dễ_thương' 'dịch' 'dọn' 'dọn_dẹp' 'e_an' 'em'\n",
      " 'emthaaysbof' 'fai' 'fan' 'for' 'free_cực' 'gan' 'ghé' 'ghê' 'ghê_'\n",
      " 'gia_vị' 'giàu' 'giá' 'giãn' 'giò' 'giúp' 'giảm' 'giết' 'giống'\n",
      " 'giới_thiệu' 'giờ' 'giữ' 'gom_góp' 'gân' 'gì' 'gạt' 'gần' 'gần_gũi' 'gặm'\n",
      " 'gặp' 'gọn' 'gốc' 'ha' 'ha_' 'hai' 'hap_dan' 'hay' 'hhuhu' 'hiền_lành'\n",
      " 'hiểu' 'ho' 'ho_la' 'house' 'hoàng' 'hoành_tráng' 'hoặc' 'hu' 'hy_vọng'\n",
      " 'hài_lòng' 'hài_thế' 'hành_động' 'hâp' 'hơn' 'hơn_nữa' 'hương_vị'\n",
      " 'hảo_hảo' 'hấp_dẫn' 'hẳn' 'hết' 'họ' 'hỏi' 'hổ' 'hủ' 'im' 'k_thể_nào'\n",
      " 'kem' 'kg' 'khen' 'khi' 'khoa' 'khoa_hỏi' 'khoa_ăn' 'khoái' 'khoái_cảm'\n",
      " 'khác' 'khách' 'khách_hàng' 'khách_sạn' 'khám_phá' 'khâu' 'khó_chịu'\n",
      " 'khô' 'không' 'khúc' 'khả_năng' 'khỏe' 'khớp' 'kia' 'kiếm' 'kiểu' 'kkkk'\n",
      " 'ko' 'kobe' 'kèm' 'kéo' 'kênh' 'kêu' 'kích_thích' 'kín' 'ký' 'kết'\n",
      " 'la_lam' 'la_lua' 'lai_tạo' 'lam_video' 'lao_động' 'like' 'lo' 'loại'\n",
      " 'luôn' 'là' 'làm' 'làm_ăn_kì' 'lá' 'lát' 'lâu' 'lèo' 'lên' 'lò_mổ' 'lúa'\n",
      " 'lúc' 'lưu_thông' 'lạc' 'lại' 'lấy' 'lần' 'lầu' 'lắm' 'lịch_s' 'lịch_sự'\n",
      " 'lốt' 'lớn' 'lợi' 'lợi_thế' 'lợn' 'ma' 'mang' 'masage' 'massage' 'mieng'\n",
      " 'miếng' 'miền' 'miệng' 'model' 'mog' 'mon' 'mon_an' 'mua' 'muối' 'muốn'\n",
      " 'mà' 'máu' 'máy' 'mãi' 'mãi_dãi' 'mãi_mê' 'mì' 'mình' 'món' 'mùa' 'mùi'\n",
      " 'múa' 'mượn' 'mạnh_khỏe' 'mất' 'mấy' 'mắc' 'mắt' 'mặc' 'mặt' 'mẹ' 'mềm'\n",
      " 'mềm_' 'mềm_thơm' 'mền' 'mệt_thiệt' 'mọi' 'mỏng' 'mổ' 'mỗi' 'một'\n",
      " 'một_chút' 'mới' 'mới_đầu' 'mời' 'mỡ' 'mục_đích' 'mỳ' 'mỹ' 'nam' 'nay'\n",
      " 'nghe' 'nghèo' 'nghĩ' 'nghề_nghiệp' 'nghệ_thuật' 'ngoan_ngoãn' 'ngon'\n",
      " 'ngon_cực' 'ngon_luon' 'ngon_thái' 'ngon_thơm' 'ngta' 'ngu' 'nguyên_lí'\n",
      " 'nguội' 'ngày' 'ngày_càng' 'ngô' 'người' 'ngược_đãi' 'ngấy' 'ngậm_ngùi'\n",
      " 'ngặm' 'ngỗng_pháp' 'ngửi' 'nha' 'nhanh' 'nhat' 'nhau' 'nhiều'\n",
      " 'nhiệt_tình' 'nhoe' 'nhoét' 'nhu_' 'nhà' 'nhà_hàng' 'nhà_vệ_sinh' 'nhá'\n",
      " 'nhân_cách' 'nhân_viên' 'nhé_khoa' 'nhìn' 'như' 'như_vậy' 'nhưng' 'nhạc'\n",
      " 'nhảy_múa' 'nhất' 'nhất_định' 'nhẩt' 'nhận' 'nhật' 'nhật_' 'nhật_bản'\n",
      " 'nhật_đập' 'nhắc' 'nhẹ' 'nhỉ' 'nhỏ' 'nhốt' 'nhớ' 'những' 'những_ai' 'noi'\n",
      " 'nuôi' 'nào' 'này' 'nè' 'ném' 'nên' 'nó' 'nói' 'nói_chuyện' 'nói_dạ_dạ'\n",
      " 'nói_năng' 'nói_thẳng' 'năm' 'nơi' 'nước' 'nước_miếng' 'nước_ngoài'\n",
      " 'nướng' 'nạc' 'nấu' 'nấu_ăn' 'nằm' 'nổi_tiếng' 'nộm' 'nửa' 'nữ' 'nữa'\n",
      " 'oi' 'ok' 'on_khoa' 'oz' 'oải' 'phi' 'phong_cách' 'phát' 'phát_triển'\n",
      " 'phát_tướng' 'phát_điên' 'phép' 'phóng_dao' 'phường' 'phải' 'phấn_đầu'\n",
      " 'phần' 'phụ_caramen' 'phụ_nữ' 'phụ_vụ' 'phục_vụ' 'qua' 'qua_mặt' 'quan'\n",
      " 'quan_trọng' 'quan_điểm' 'quay' 'quay_phim' 'quen_k' 'quyền_lực' 'quá'\n",
      " 'quán' 'quên' 'quý' 'quạt_kinh' 'quảng_ngãi' 'quận' 'r_cảm' 'ra' 'rat'\n",
      " 'rat_la' 'review' 'review_salt' 'reviewer' 'rideye' 'riêng' 'ruột'\n",
      " 'rì_viu' 'rìa' 'rùi' 'răng' 'rất' 'rắc' 'rắc_thính' 'rắt' 'rồi' 'rớt'\n",
      " 'rụp' 'rửa' 'sang' 'sao' 'sau' 'se' 'sg' 'sinh_vật' 'so' 'sung_sướng'\n",
      " 'sông' 'sưng' 'sướng' 'sậy' 'sặc_haha' 'sẽ' 'số' 'sống' 'sợi' 'sức_khỏe'\n",
      " 'ta' 'tan' 'tay' 'tay_nghề' 'tay_sẻ' 'teppanyaki' 'texas' 'thanh_xuân'\n",
      " 'thanks' 'thay' 'theo' 'thich_loi' 'thik_nhây' 'thit' 'thiếu' 'thoi'\n",
      " 'thoải_mái' 'thuc' 'thui' 'thuong' 'thuê' 'thuần_chủng' 'thành'\n",
      " 'thành_công' 'thân_thiện' 'thèm' 'thèm_thui' 'thêm' 'thì' 'thích'\n",
      " 'thích_a_review' 'thích_video' 'thôi' 'thôi_' 'thông_báo' 'thùng'\n",
      " 'thú_vị' 'thúc_ép' 'thơm' 'thương' 'thương_hiệu' 'thường' 'thưởng_thức'\n",
      " 'thượng_hạng' 'thượng_đế' 'thấy' 'thật' 'thật_sự' 'thế' 'thế_là'\n",
      " 'thế_nào' 'thỉnh_thoảng' 'thịt' 'thổ_nhĩ_kì' 'thớ' 'thứ' 'thức_ăn' 'thử'\n",
      " 'thực_ra' 'tin' 'tinh_tế' 'tiếng' 'tiếp_tân' 'tiền' 'toi' 'toàn'\n",
      " 'toàn_tâm' 'toàn_ý' 'tr' 'trang_tri' 'trang_trí' 'trc' 'trc_múa' 'tre'\n",
      " 'trieu' 'trong' 'trung' 'trung_ăn' 'trâu' 'trên' 'trình_diễn' 'trước'\n",
      " 'trưởng' 'trại' 'trời' 'tu_tu' 'tui' 'tung' 'tuong' 'tuyệt_' 'tuyệt_vời'\n",
      " 'tuân_trẻ' 'tuần' 'tuổi' 'tào_lao' 'tìm' 'tí' 'tích_mỡ' 'tô' 'tôi' 'tôm'\n",
      " 'tôn_trọng' 'tươi_băm' 'tưởng' 'tưởng_tượng' 'tại' 'tất_nhiên' 'tận'\n",
      " 'tận_tình' 'tỉnh_thành' 'tối' 'tốt' 'tội_camera' 'tội_nghiệp' 'tới'\n",
      " 'tủ_lạnh' 'từ' 'từ_từ' 'từng' 'tự' 'tự_nhiên' 'uiii' 'uống' 'va'\n",
      " 'va_tuyet' 'vao' 'vay' 'vd' 'vi_mieng' 'vid' 'video' 'viétub' 'viêm'\n",
      " 'việc_làm' 'việt' 'việt_nam' 'vn' 'voi' 'vs' 'vua' 'vui' 'vut' 'và'\n",
      " 'vàng' 'vào' 'vì' 'vô' 'vô_mồm' 'vẫn' 'vận_động' 'vật' 'vậy' 'về' 'vị'\n",
      " 'vốn_dĩ' 'vỗ' 'với' 'vừa' 'xem' 'xem_review' 'xin' 'xoa' 'xong' 'xuống'\n",
      " 'xào_hành' 'xã_hội' 'xúc_xích' 'xĩu_anh' 'xương' 'xịn' 'xủi' 'xứ_sở'\n",
      " 'your' 'youtobe' 'youtober' 'youtube' 'youtuber' 'yêu' 'yếu' 'yếu_ớt'\n",
      " 'á_hả' 'á_kk' 'á_mắc' 'áo' 'ép' 'ép_ăn' 'êm_ái' 'ít' 'ít_ra' 'ông'\n",
      " 'ý_kiến' 'ăn' 'ăn_' 'ăn_bò' 'ăn_dc' 'ăn_k' 'ăn_lui' 'ăn_theo' 'ăn_tới'\n",
      " 'ăn_ở' 'ănkhông' 'đam_mê' 'đan_xen' 'đang' 'đc' 'đi' 'đi_lại' 'đi_nữa'\n",
      " 'điên_loạn' 'điều' 'điều_kiện' 'điểm_danh' 'điệu' 'đàng' 'đào_tạo' 'đá'\n",
      " 'đáng' 'đâu' 'đã' 'đó' 'đói' 'đông_lạnh' 'đúng' 'đơn_giản' 'đường' 'được'\n",
      " 'đảm_bảo' 'đầu' 'đầu_bếp' 'đầu_tiên' 'đầy' 'đẩy' 'đậu' 'đắt' 'đặc_biệt'\n",
      " 'đẹp' 'đẹp_mắt' 'đẹp_đẽ' 'đến' 'đều' 'để' 'đỉnh' 'đọc' 'đỏ' 'đồ_ăn' 'đồn'\n",
      " 'đồng_tiền' 'đồng_ý' 'độ' 'đời' 'đở' 'đỡ' 'đợi' 'đủ' 'đứa' 'đứng' 'đừng'\n",
      " 'ơi' 'ạ_' 'ảnh' 'ấy' 'ẩm_thực_đc' 'ỉa_vs' 'ổng' 'ỗng' 'ực' 'ực_ực']\n",
      "\n",
      "\n",
      "\n",
      "['00' '1000' '2014' '2019' '2021' '43' '55' '59' '_cameraman' '_chúc'\n",
      " '_chúc_anh' '_giữ' '_năm' '_p' '_thương' '_zoom' 'a_di' 'a_e' 'a_khoa'\n",
      " 'ai' 'ai_cập' 'all_can' 'an_bình' 'an_do' 'anh' 'anh_chị' 'anh_khoa'\n",
      " 'ba_mẹ' 'bao_giờ' 'bay' 'bbc' 'bh' 'biến' 'biến_đổi' 'biết' 'biết_ơn'\n",
      " 'biển' 'blessing' 'bon_chen' 'bth' 'buồn' 'bán' 'bánh' 'bánh_cho'\n",
      " 'bánh_phát' 'bánh_tặng' 'báo' 'báo_chí' 'bây_giờ' 'bãi' 'bên' 'bình_an'\n",
      " 'bình_luận' 'bình_thường' 'bình_yên' 'bùng_phát' 'bạn' 'bạo' 'bảo'\n",
      " 'bảo_trọng_nha' 'bảo_vệ' 'bất_cứ' 'bất_tử' 'bẩn' 'bắt_gặp' 'bằng'\n",
      " 'bến_xe' 'bệnh_tật' 'bị' 'bỗng' 'bộ_lạc' 'bớt' 'bờ' 'bởi' 'bởi_vì' 'bụi'\n",
      " 'bức_xúc' 'c_careman' 'ca' 'camera' 'camera_man' 'cameraman' 'cammera'\n",
      " 'can_đảm' 'cao' 'caramen' 'cha_mẹ' 'chi' 'chi_tiết' 'chia_sẻ' 'chiếc'\n",
      " 'chiều' 'cho' 'chu_đáo' 'chuyên_nghiệp' 'chuyến' 'chuyện' 'chàn'\n",
      " 'chân_thật' 'chân_thực' 'châu_lục' 'chén' 'chê' 'chênh_lệch' 'chính_phủ'\n",
      " 'chính_quyền' 'chú' 'chúc' 'chúc_khoa' 'chúng_ta' 'chơi' 'chưa' 'chả'\n",
      " 'chảnh' 'chất_lượng' 'chắc' 'chẳng' 'chẳng_hạn' 'chết' 'chỉ' 'chị' 'chịu'\n",
      " 'chọn' 'chỗ' 'chớ' 'chờ' 'chời' 'chục' 'chủ' 'chủ_đề' 'chủng_delta' 'chứ'\n",
      " 'clip' 'clip_hịn' 'clip_liêu' 'coi' 'comeback' 'con' 'con_người' 'corona'\n",
      " 'covid' 'covid_ghê' 'covit' 'cuối' 'cuốn_hút' 'cuộc_sống' 'càng' 'các'\n",
      " 'cách' 'cái' 'cám_ơn' 'câu' 'còi' 'còn' 'có' 'có_lẽ' 'có_thể' 'có_vẻ'\n",
      " 'cô' 'công_cộng' 'công_nhận' 'công_tác' 'cùng' 'cùng_với' 'cúm' 'căng'\n",
      " 'cũng' 'cạnh' 'cả' 'cảm_giác' 'cảm_nhận' 'cảm_phục' 'cảm_thấy' 'cảm_tạ'\n",
      " 'cảm_động' 'cảm_ơn' 'cảm_ơn_anh' 'cảnh' 'cảnh_giác' 'cấm' 'cấm_biên'\n",
      " 'cần' 'cầu_mong' 'cẩn_thận' 'cắm' 'cố' 'cốt' 'cổ' 'cộng' 'cớ' 'của' 'củi'\n",
      " 'cứ' 'cứu' 'cực' 'cực_kỳ' 'd_ae' 'da' 'danh_sách' 'dc_sinh' 'di_tích'\n",
      " 'discovery' 'do' 'doanh_nghiệp' 'du_khách' 'du_lịch' 'dubai' 'duy_nhất'\n",
      " 'dám' 'dân' 'dân_cư' 'dân_dã' 'dân_số' 'dân_tộc' 'dòng' 'dù' 'dùm'\n",
      " 'dơ_ổng' 'dưới' 'dạng' 'dạo' 'dầu' 'dễ' 'dễ_chịu' 'dễ_thương' 'dịch'\n",
      " 'dịch_bệnh' 'em' 'fan' 'food' 'ganga_aarti' 'ghánh' 'ghép' 'gia_đình'\n",
      " 'giup' 'già_yếu' 'giàu' 'giàu_có' 'giá_trị' 'giúp' 'giúp_việc' 'giúp_đỡ'\n",
      " 'giải_đáp' 'giảng_dạy' 'giật' 'giặt_dũ' 'giống' 'giới' 'giới_thiệu' 'giờ'\n",
      " 'gái' 'gánh' 'gây' 'gê' 'gì' 'góp_phần' 'gần' 'gắn' 'gặp' 'gọi' 'haha'\n",
      " 'hai' 'hay' 'hello' 'hic' 'hindu' 'hiền' 'hiền_lành' 'hiểu' 'hiểu_biết'\n",
      " 'hiện_tại' 'hk' 'hoan_nghêng' 'hoang' 'hoang_tàn' 'homeless' 'hot'\n",
      " 'hoành_hành' 'hoạt_động' 'hoặc' 'huhu' 'hài_hước' 'hài_lòng' 'hàng'\n",
      " 'hàng_gian' 'hành_động' 'hãy' 'hình_dung' 'hình_thành' 'hình_ảnh'\n",
      " 'hóa_hindu' 'hôm_nay' 'hơi' 'hơn' 'hơn_bao_giờ_hết' 'hơn_nữa' 'hạnh_phúc'\n",
      " 'hấp_dẫn' 'hầu_như' 'hậu_duệ' 'hậu_quả' 'hậu_sự' 'hằng' 'hết' 'họ' 'học'\n",
      " 'học_hỏi' 'hỏa' 'hỏa_thiêu' 'hỏa_táng' 'hỏng' 'hồi' 'hồi_hộp' 'hộ'\n",
      " 'hủ_tục' 'hứng_chịu' 'inh_ỏi' 'is' 'iu' 'kh' 'khi' 'khiến_phối'\n",
      " 'khiếp_đảm' 'khoa' 'khoa_pug' 'khoa_thuyết_minh' 'khoapug' 'khoảng' 'khu'\n",
      " 'khu_phố' 'khá' 'khác' 'khét' 'khó_khăn' 'không' 'không_chỉ' 'khỏe'\n",
      " 'khỏi' 'khổ_trang' 'khủng_khiếp' 'khựa' 'kia' 'kinh_dị' 'kinh_khủng'\n",
      " 'kiến_thức' 'kiểu' 'km' 'ko' 'kém' 'kênh' 'kênh_youtube' 'kể_cả' 'kịp'\n",
      " 'kỳ_lạ' 'kỷ_niệm' 'kỹ' 'kỹ_thuật' 'la_liệt' 'like' 'liên_miệng'\n",
      " 'liên_quan' 'liên_tục' 'lo' 'luyên_thuyên' 'luôn' 'luông' 'là' 'làm'\n",
      " 'làm_vậy' 'lành' 'lâu_đài' 'lê_lết' 'lên' 'lò' 'lò_thiêu' 'lòng' 'lúc'\n",
      " 'lúc_nào' 'lý_do' 'lạ' 'lạ_thường' 'lạc_hậu' 'lại' 'lạnh' 'lấy' 'lần'\n",
      " 'lẫn' 'lận' 'lắm' 'lặn_lội' 'lễ' 'lễ_hội' 'lịch_sử' 'lớn' 'lớn_tiếng'\n",
      " 'mai_táng' 'mang' 'may' 'may_mắn' 'mh' 'miền' 'mn' 'mong' 'mong_a'\n",
      " 'mr_khoa' 'mua' 'muốn' 'mà' 'mà_còn' 'màu' 'máu' 'máy_bay' 'mãi' 'mè'\n",
      " 'mình' 'móc_túi' 'món' 'môi_trường' 'mùa' 'mùi' 'mạnh' 'mạnh_khỏe'\n",
      " 'mạnh_mẽ' 'mạo_hiểm' 'mất' 'mất_thiện_cảm' 'mấy' 'mắt' 'mặc' 'mặt' 'mẹ'\n",
      " 'mệnh_danh' 'mệnh_giá' 'mệt' 'mọi' 'mỗi' 'mộ_a' 'một' 'một_cách' 'một_số'\n",
      " 'mới' 'mới_lạ' 'mở_rộng' 'mỡ' 'mức_độ' 'nay' 'nc' 'new_delhe' 'new_delhi'\n",
      " 'ng' 'ngay' 'nghe' 'nghi_thức' 'nghèo' 'nghèo_khó' 'nghèo_nàn'\n",
      " 'nghèo_đói' 'nghĩ' 'nghỉ' 'ngoài' 'nguy_hiểm' 'nguyên_thủy' 'ngàn' 'ngày'\n",
      " 'ngày_càng' 'ngày_đêm' 'ngưoengx' 'người' 'người_dân' 'ngưỡng_mộ'\n",
      " 'ngại_khổ' 'ngủ' 'ngừoi' 'ngửi' 'nha' 'nha_khoa' 'nhanh' 'nhau' 'nhiều'\n",
      " 'nhiễm' 'nhà' 'nhà_trọ' 'nhà_vệ_sinh' 'nhân_hậu' 'nhân_văn' 'nhân_ái'\n",
      " 'nhé' 'nhìn' 'nhìn_khoa' 'nhìu' 'như' 'như_thế' 'như_vậy' 'nhưng' 'nhất'\n",
      " 'nhất_là' 'nhật_duyên_thầm' 'nhắc' 'nhớ' 'nhờ' 'những' 'nice_khoa' 'ntn'\n",
      " 'nào' 'này' 'nét' 'nên' 'nó' 'nói' 'nói_chung' 'nói_xấu' 'nóng'\n",
      " 'nóng_lạnh' 'nôn' 'núi' 'năm' 'nơi' 'nước' 'nước_lớn' 'nước_ngoài' 'nạn'\n",
      " 'nằm' 'nặng' 'nếu' 'nể' 'nổ_lực' 'nổi' 'nổi_tiếng' 'nội_dung' 'nội_khoa'\n",
      " 'nữ' 'nữa' 'ok' 'pha' 'phim' 'phim_tài_liệu' 'phim_ảnh' 'phong_cách'\n",
      " 'phong_kiến' 'phá' 'pháp' 'phát' 'phát_triển' 'phân_phát' 'phép' 'phía'\n",
      " 'phút' 'phước_tâm' 'phải' 'phần' 'phần_đông' 'phật_thuyết_giảng' 'phụ_nữ'\n",
      " 'phụ_đề' 'phức_tạp' 'pug' 'pug_tặng' 'qua' 'qua_loa' 'quan_chức'\n",
      " 'quan_tâm' 'quay' 'quay_phim' 'quyết_địhj' 'quài' 'quá' 'quá_chừng'\n",
      " 'quên' 'quý' 'ra' 'review' 'review_cùa' 'riêng' 'rì_wieu' 'rõ'\n",
      " 'rùng_mình' 'rải' 'rất' 'rằng' 'rồi' 'rửa' 'rửa_tội' 'sang' 'sanh' 'sao'\n",
      " 'sau' 'seri' 'sharing' 'sinh' 'sinh_hoạt' 'sinh_ra' 'sk_để' 'so' 'suống'\n",
      " 'suốt' 'sàn_khôn' 'sát' 'sông' 'sơ_sơ' 'sướng_chán' 'sạp' 'sảy' 'sầm_uất'\n",
      " 'sẽ' 'số' 'sống' 'sớm' 'sợ' 'sức' 'sức_khỏe' 'sự' 'ta' 'tao' 'thanks'\n",
      " 'thay_đổi' 'the' 'theo' 'thi_thể' 'thing' 'thiêng' 'thiêu' 'thiêu_xác'\n",
      " 'thiếu_hụt' 'thiện_cảm' 'thiệt' 'thiệt_sự' 'thoát' 'thoải_mái'\n",
      " 'thuyết_minh' 'thuê' 'thành_kính' 'thành_phố' 'tháng' 'thánh_địa_linh'\n",
      " 'thê_giới' 'thêm' 'thì' 'thích' 'thích_hợp' 'thích_đoạn' 'thôi'\n",
      " 'thông_tin' 'thăm_quan' 'thương' 'thương_a' 'thương_cs' 'thước' 'thả'\n",
      " 'thảm_họa' 'thấy' 'thậm_trí' 'thật' 'thật_ra' 'thật_sự' 'thật_tiếc'\n",
      " 'thế_giới' 'thế_hệ' 'thế_này' 'thồi' 'thời' 'thời_điểm' 'thủ_đô'\n",
      " 'thủy_táng' 'thứ' 'thức_ăn' 'thực_sự' 'thực_tế' 'tin' 'tiếng' 'tiếp'\n",
      " 'tiếp_tục' 'tiền' 'tks' 'to' 'toàn' 'toàn_tập' 'tp' 'tr' 'trc' 'triệu'\n",
      " 'tro' 'trong' 'trung_quốc' 'trân_trọng' 'trên' 'trôi' 'trông' 'trùm'\n",
      " 'trăm' 'trăm_ngàn' 'trước' 'trả_lời' 'trải' 'trải_nghiệm' 'trời'\n",
      " 'trời_đất' 'trở_thành' 'trực_quan' 'trực_thăng' 'tui' 'tuyệt_vời' 'tuần'\n",
      " 'tàn_phá' 'tàu' 'tâm' 'tâm_sự' 'tên' 'tìm_hiểu' 'tình_hình' 'tình_thần'\n",
      " 'tình_trạng' 'tín_ngưỡng' 'tính' 'tôi' 'tôn_giáo' 'tôn_vinh' 'túi'\n",
      " 'tươi_đẹp' 'tưởng' 'tưởng_tượng' 'tại' 'tấm' 'tất_cả' 'tầm_cỡ' 'tẩu'\n",
      " 'tận_mắt' 'tận_tâm' 'tập' 'tập_huấn' 'tập_trug' 'tắm' 'tệ_hại' 'tỏ_lòng'\n",
      " 'tốt' 'tốt_bụng' 'tốt_đẹp' 'tổ_quốc' 'tổng_cty' 'tội' 'tới' 'từ'\n",
      " 'từ_thiện' 'tử_vong' 'tự_hào' 'tự_lập' 'tự_nhiên' 'tỷ_phú' 'ui'\n",
      " 'varanasi' 'ven' 'very' 'video' 'virut' 'việt_nam' 'vn' 'vs' 'vui_vẻ'\n",
      " 'và' 'vài' 'vàng' 'vào' 'váng' 'vì' 'vòng_quanh' 'vô' 'vô_cùng'\n",
      " 'vô_gia_cư' 'văn_hóa' 'vương_gia' 'vượt' 'vấn_đề' 'vẫn' 'vậy' 'vậy_mà'\n",
      " 'về' 'vệ_sinh' 'vị_trí' 'vội_like' 'với' 'vợi' 'we' 'with' 'xa' 'xa_vời'\n",
      " 'xe' 'xem' 'xem_lại' 'xin' 'xinh_đẹp' 'xong' 'xuống' 'xà_bông' 'xác'\n",
      " 'xót' 'xông' 'xông_pha' 'xúc_động' 'xưa' 'xẽ' 'xế_hộp' 'xếp' 'youtube'\n",
      " 'youtuber' 'ytb' 'yên_bình' 'yêu' 'yếu_tố' 'á_triệu' 'ám_ảnh' 'ánh'\n",
      " 'áo_khoác' 'ít' 'ít_ra' 'ô_nhiễm' 'ôi' 'ông' 'ý_' 'ý_nghĩa' 'ý_thức' 'ăn'\n",
      " 'ăn_mặc' 'ăn_xin' 'đa_phần' 'đa_số' 'đang' 'đc' 'đeo' 'đi' 'điều'\n",
      " 'điều_kiện' 'điểm' 'đoạn' 'đà_phật' 'đàn_ông' 'đá' 'đáng' 'đáng_giá'\n",
      " 'đâu' 'đây' 'đã' 'đính_chính' 'đó' 'đói' 'đông_đúc' 'đúng' 'đăng_ký'\n",
      " 'đương_thời' 'đường' 'đường_ray' 'được' 'đại_dịch' 'đại_họa' 'đạp' 'đảng'\n",
      " 'đất' 'đất_nước' 'đất_đai' 'đầu' 'đầu_tiên' 'đầy' 'đầy_đủ' 'đậm_đặc_văn'\n",
      " 'đằng' 'đặc_biệt' 'đặt' 'đẹp' 'đẹp_trai' 'đến' 'đến_nỗi' 'đề_xuất' 'để'\n",
      " 'địa_chủ' 'địa_cầu' 'địa_lí' 'địa_lý' 'địa_điểm' 'đọc' 'đỏ' 'đối_sử_tệ'\n",
      " 'đối_với' 'đốt' 'đồ_ăn' 'đồng_bằng' 'đồng_nghiệp' 'đổ' 'đổi' 'độ'\n",
      " 'độc_đáo' 'đời' 'đời_sống' 'đời_thường' 'đợi' 'đục_ngầu' 'đủ' 'đứa'\n",
      " 'đức_phật' 'đứng' 'đừng' 'ơi' 'ảnh' 'ấn' 'ấn_mình' 'ấn_nghe'\n",
      " 'ấn_siêu_khỏe' 'ấn_tượng' 'ấn_độ' 'ấy' 'ầm' 'ẩm_thực' 'ắt' 'ổng' 'ủng_hộ']\n",
      "\n",
      "\n",
      "\n"
     ]
    }
   ],
   "source": [
    "dataListY1 = dataList1.Emotion\n",
    "dataListY2 = dataList2.Emotion\n",
    "dataListY3 = dataList3.Emotion\n",
    "\n",
    "dataListX1 = text_process(dataList1)\n",
    "trainX1, testX1, trainY1, testY1 = train_test_split(dataListX1, dataListY1, test_size=0.33, random_state=42)\n",
    "model = model.fit(trainX1, trainY1)\n",
    "predY1 = model.predict(testX1)\n",
    "\n",
    "dataListX2 = text_process(dataList2)\n",
    "trainX2, testX2, trainY2, testY2 = train_test_split(dataListX2, dataListY2, test_size=0.33, random_state=42)\n",
    "model = model.fit(trainX2, trainY2)\n",
    "predY2 = model.predict(testX2)\n",
    "\n",
    "dataListX3 = text_process(dataList3)\n",
    "trainX3, testX3, trainY3, testY3 = train_test_split(dataListX3, dataListY3, test_size=0.33, random_state=42)\n",
    "model = model.fit(trainX3, trainY3)\n",
    "predY3 = model.predict(testX3)"
   ]
  },
  {
   "cell_type": "markdown",
   "metadata": {},
   "source": [
    "#### 3.2 Performance metrics (Accuracy, F1-score…) for these datasets"
   ]
  },
  {
   "cell_type": "code",
   "execution_count": 24,
   "metadata": {},
   "outputs": [
    {
     "name": "stdout",
     "output_type": "stream",
     "text": [
      "Average of Accuracy 1: 0.36363636363636365\n",
      "Average of F1_Score 1: 0.36363636363636365\n",
      "Average of Precision 1: 0.36363636363636365\n",
      "Average of Accuracy 2: 0.3939393939393939\n",
      "Average of F1_Score 2: 0.3939393939393939\n",
      "Average of Precision 2: 0.3939393939393939\n",
      "Average of Accuracy 3: 0.3939393939393939\n",
      "Average of F1_Score 3: 0.24242424242424243\n",
      "Average of Precision 3: 0.24242424242424243\n"
     ]
    }
   ],
   "source": [
    "Accuracy1  = []\n",
    "Precision1 = []\n",
    "F1_Score1  = []\n",
    "\n",
    "Accuracy1.append(accuracy_score(testY1, predY1))\n",
    "F1_Score1.append(f1_score(testY1, predY1, average='micro'))  # Could change to None,'weighted','micro','macro'\n",
    "Precision1.append(precision_score(testY1, predY1, average='micro'))\n",
    "\n",
    "averageAccuracy1 = sum(Accuracy1)/len(Accuracy1)\n",
    "print(\"Average of Accuracy 1:\", averageAccuracy1)\n",
    "averageF1_Score1 = sum(F1_Score1)/len(F1_Score1)\n",
    "print(\"Average of F1_Score 1:\", averageF1_Score1)\n",
    "averagePrecision1 = sum(Precision1)/len(Precision1)\n",
    "print(\"Average of Precision 1:\", averagePrecision1)\n",
    "\n",
    "Accuracy2  = []\n",
    "Precision2 = []\n",
    "F1_Score2  = []\n",
    "\n",
    "Accuracy2.append(accuracy_score(testY2, predY2))\n",
    "F1_Score2.append(f1_score(testY2, predY2, average='micro'))  # Could change to None,'weighted','micro','macro'\n",
    "Precision2.append(precision_score(testY2, predY2, average='micro'))\n",
    "\n",
    "averageAccuracy2 = sum(Accuracy2)/len(Accuracy2)\n",
    "print(\"Average of Accuracy 2:\", averageAccuracy2)\n",
    "averageF1_Score2 = sum(F1_Score2)/len(F1_Score2)\n",
    "print(\"Average of F1_Score 2:\", averageF1_Score2)\n",
    "averagePrecision2 = sum(Precision2)/len(Precision2)\n",
    "print(\"Average of Precision 2:\", averagePrecision2)\n",
    "\n",
    "Accuracy3  = []\n",
    "Precision3 = []\n",
    "F1_Score3  = []\n",
    "\n",
    "Accuracy3.append(accuracy_score(testY3, predY3))\n",
    "F1_Score3.append(f1_score(testY3, predY3, average='micro'))  # Could change to None,'weighted','micro','macro'\n",
    "Precision3.append(precision_score(testY3, predY3, average='micro'))\n",
    "\n",
    "averageAccuracy3 = sum(Accuracy3)/len(Accuracy3)\n",
    "print(\"Average of Accuracy 3:\", averageAccuracy2)\n",
    "averageF1_Score3 = sum(F1_Score3)/len(F1_Score3)\n",
    "print(\"Average of F1_Score 3:\", averageF1_Score3)\n",
    "averagePrecision3 = sum(Precision3)/len(Precision3)\n",
    "print(\"Average of Precision 3:\", averagePrecision3)"
   ]
  }
 ],
 "metadata": {
  "kernelspec": {
   "display_name": "Python 3",
   "language": "python",
   "name": "python3"
  },
  "language_info": {
   "codemirror_mode": {
    "name": "ipython",
    "version": 3
   },
   "file_extension": ".py",
   "mimetype": "text/x-python",
   "name": "python",
   "nbconvert_exporter": "python",
   "pygments_lexer": "ipython3",
   "version": "3.11.1"
  }
 },
 "nbformat": 4,
 "nbformat_minor": 4
}
